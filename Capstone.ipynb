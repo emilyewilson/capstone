{
 "cells": [
  {
   "cell_type": "code",
   "execution_count": null,
   "id": "43298c5b",
   "metadata": {},
   "outputs": [],
   "source": [
    "import pandas as pd\n",
    "import matplotlib.pyplot as plt\n",
    "import folium\n",
    "from folium.plugins import MarkerCluster\n",
    "from folium.plugins import FastMarkerCluster\n",
    "import re\n",
    "\n",
    "%matplotlib inline"
   ]
  },
  {
   "cell_type": "markdown",
   "id": "163d34d7",
   "metadata": {},
   "source": [
    "### 2021 All Fire Incidents in United States"
   ]
  },
  {
   "cell_type": "code",
   "execution_count": null,
   "id": "acb19bf7",
   "metadata": {
    "scrolled": false
   },
   "outputs": [],
   "source": [
    "fire2021 = pd.read_csv('data/2021fireincident.txt', delimiter = '^')\n",
    "fire2021['FIRE_ORIG']"
   ]
  },
  {
   "cell_type": "markdown",
   "id": "5dbc3730",
   "metadata": {},
   "source": [
    "#### Sex and Age of those who caused fires"
   ]
  },
  {
   "cell_type": "markdown",
   "id": "cccfad0b",
   "metadata": {},
   "source": [
    "fire2021 = fire2021.loc[fire2021['STATE']== 'TN']\n",
    "fire2021[['INCIDENT_KEY','HUM_FAC_7', 'SEX', 'AGE']]"
   ]
  },
  {
   "cell_type": "markdown",
   "id": "9d179bcc",
   "metadata": {},
   "source": [
    "### Cause codes for fire incidents(use pdf in data folder to identify cause codes)"
   ]
  },
  {
   "cell_type": "code",
   "execution_count": null,
   "id": "d7c39a2a",
   "metadata": {},
   "outputs": [],
   "source": [
    "firecauses2021 = pd.read_csv('../data/2021causes.txt', delimiter = '^')\n",
    "firecauses2021"
   ]
  },
  {
   "cell_type": "markdown",
   "id": "4ebe30b8",
   "metadata": {},
   "source": [
    "#### Created Dictionary to rename 'CAUSE_CODE' values as actual descriptions \n",
    "#### !!!USE 'Data Analysis Guide' pg. 27!!!"
   ]
  },
  {
   "cell_type": "code",
   "execution_count": null,
   "id": "68491157",
   "metadata": {
    "scrolled": true
   },
   "outputs": [],
   "source": [
    "firecauses2021.CAUSE_CODE = firecauses2021.CAUSE_CODE.astype(str).str.strip()\n",
    "firecauses2021.CAUSE_CODE.unique()"
   ]
  },
  {
   "cell_type": "code",
   "execution_count": null,
   "id": "f5337920",
   "metadata": {},
   "outputs": [],
   "source": [
    "dict = {'15' : 'Other Unintentional', '1' : 'Intentional', \"2\" : 'Playing with Heat Source', '3' : 'Smoking', '4' : 'Heating', '5' : 'Cooking', '6' : 'Electrical Malfunction', '7' : 'Appliances', '8' : 'Open Flame', '9' : 'Other Heat', '10' : 'Other Equiptment', '11' : 'Natural', '12' : 'Exposure', '13' : 'Unknown', '14' : 'Equiptment Misoperation, Failure', '16' : 'Investigation with Arson Module'}\n",
    "\n",
    "firecauses2021['CAUSE_CODE'] = firecauses2021['CAUSE_CODE'].replace(dict)\n",
    "firecauses2021"
   ]
  },
  {
   "cell_type": "markdown",
   "id": "7c39b453",
   "metadata": {},
   "source": [
    "# 2021 Fire incident addresses (United States)"
   ]
  },
  {
   "cell_type": "code",
   "execution_count": null,
   "id": "05dd2b79",
   "metadata": {},
   "outputs": [],
   "source": [
    "fire2021_address = pd.read_csv('../data/2021incidentaddress.txt', delimiter = '^', encoding='latin-1')\n",
    "fire2021_address"
   ]
  },
  {
   "cell_type": "markdown",
   "id": "4c00c1b2",
   "metadata": {},
   "source": [
    "### 2021 Fire Incident address (TN)\n"
   ]
  },
  {
   "cell_type": "code",
   "execution_count": null,
   "id": "1fec5afe",
   "metadata": {},
   "outputs": [],
   "source": [
    "fire2021_TNaddress = fire2021_address.loc[fire2021_address['STATE_ID'] == 'TN'].drop('ZIP4', axis = 1)\n",
    "fire2021_TNaddress = fire2021_TNaddress.reset_index(drop = True)\n",
    "fire2021_TNaddress"
   ]
  },
  {
   "cell_type": "code",
   "execution_count": null,
   "id": "913eea1f",
   "metadata": {},
   "outputs": [],
   "source": [
    "fire2021_TNaddress = fire2021_TNaddress.loc[fire2021_TNaddress['STATE'] == 'TN']\n",
    "fire2021_TNaddress"
   ]
  },
  {
   "cell_type": "markdown",
   "id": "d83fb3b2",
   "metadata": {},
   "source": [
    "#### Changing case on 'STREETNAME', 'STREETTYPE', 'CITY', and 'STATE_ID'"
   ]
  },
  {
   "cell_type": "code",
   "execution_count": null,
   "id": "76fc6796",
   "metadata": {},
   "outputs": [],
   "source": [
    "fire2021_TNaddress['STREETNAME'] = fire2021_TNaddress['STREETNAME'].str.title()\n",
    "fire2021_TNaddress['STREETTYPE'] = fire2021_TNaddress['STREETTYPE'].str.title()\n",
    "fire2021_TNaddress['CITY'] = fire2021_TNaddress['CITY'].str.title()\n",
    "fire2021_TNaddress['STATE_ID'] = fire2021_TNaddress['STATE_ID'].str.upper()\n",
    "fire2021_TNaddress"
   ]
  },
  {
   "cell_type": "markdown",
   "id": "7aed87c1",
   "metadata": {},
   "source": [
    "#### Changing 'INC_DATE' to datetime"
   ]
  },
  {
   "cell_type": "code",
   "execution_count": null,
   "id": "09b69092",
   "metadata": {},
   "outputs": [],
   "source": [
    "fire2021_TNaddress['incident_date'] = pd.to_datetime(fire2021_TNaddress['INC_DATE'], format='%m%d%Y')"
   ]
  },
  {
   "cell_type": "code",
   "execution_count": null,
   "id": "d44e1720",
   "metadata": {},
   "outputs": [],
   "source": [
    "fire2021_TNaddress = fire2021_TNaddress.drop(columns=['INC_DATE'])\n",
    "fire2021_TNaddress"
   ]
  },
  {
   "cell_type": "markdown",
   "id": "8d79b5bb",
   "metadata": {},
   "source": [
    "#### !!!Extract the first 5 digits of the zipcode in order to drop the '.0'!!!"
   ]
  },
  {
   "cell_type": "code",
   "execution_count": null,
   "id": "6addb10a",
   "metadata": {},
   "outputs": [],
   "source": [
    "fire2021_TNaddress['ZIP5'] = fire2021_TNaddress['ZIP5'].astype(str).str.replace('\\.0$', '', regex=True)\n",
    "fire2021_TNaddress"
   ]
  },
  {
   "cell_type": "markdown",
   "id": "f301db82",
   "metadata": {},
   "source": [
    "### 2021 Fire Incident addresses (Nashville, TN)\n",
    "#### (possibly narrow down to just specific zipcodes in which Nash Fire Dept responds to. For visulization purposes, follow the 'TN fire stats' link in favorites bar. TN State stats, Davidson Co stats, Nash/zipcode stats))"
   ]
  },
  {
   "cell_type": "code",
   "execution_count": null,
   "id": "3a92f170",
   "metadata": {},
   "outputs": [],
   "source": [
    "fire2021_nash_address = fire2021_TNaddress.loc[fire2021_TNaddress['CITY'] == 'Nashville']\n",
    "fire2021_nash_address.to_csv('fire2021__nash_address.csv')\n",
    "fire2021_nash_address = fire2021_nash_address.reset_index(drop = True)\n",
    "fire2021_nash_address.head()"
   ]
  },
  {
   "cell_type": "code",
   "execution_count": null,
   "id": "377c4570",
   "metadata": {},
   "outputs": [],
   "source": [
    "fire2021_nash_address.ZIP5.unique()"
   ]
  },
  {
   "cell_type": "markdown",
   "id": "6e9e01af",
   "metadata": {},
   "source": [
    "### Combining All 2021 Tables"
   ]
  },
  {
   "cell_type": "code",
   "execution_count": null,
   "id": "2f13285d",
   "metadata": {},
   "outputs": [],
   "source": [
    "tn2021 = pd.merge(firecauses2021, fire2021_TNaddress, \n",
    "                               on = 'INCIDENT_KEY', \n",
    "                               how = 'inner')\n",
    "tn2021 = tn2021[['INCIDENT_KEY', 'incident_date', 'STATE_x', 'FDID_x', 'INC_NO_x', 'CAUSE_CODE', 'NUM_MILE', 'STREET_PRE','STREETNAME', 'STREETTYPE', 'STREETSUF', 'APT_NO','CITY', 'STATE_ID', 'ZIP5']]\n",
    "tn2021.to_csv('tn2021.csv')\n",
    "tn2021"
   ]
  },
  {
   "cell_type": "code",
   "execution_count": null,
   "id": "bd76d7fd",
   "metadata": {},
   "outputs": [],
   "source": [
    "nash2021 = pd.merge(firecauses2021, fire2021_nash_address, \n",
    "                               on = 'INCIDENT_KEY', \n",
    "                               how = 'inner')\n",
    "nash2021 = nash2021[['INCIDENT_KEY', 'incident_date', 'STATE_x', 'FDID_x', 'INC_NO_x', 'CAUSE_CODE', 'NUM_MILE', 'STREET_PRE','STREETNAME', 'STREETTYPE', 'STREETSUF', 'APT_NO','CITY', 'STATE_ID', 'ZIP5']]\n",
    "nash2021.to_csv('nash2021.csv')\n",
    "nash2021"
   ]
  },
  {
   "cell_type": "markdown",
   "id": "8bfc655a",
   "metadata": {},
   "source": [
    "# 2020 All Fire Incident  (United States)\n"
   ]
  },
  {
   "cell_type": "code",
   "execution_count": null,
   "id": "9fbe9279",
   "metadata": {},
   "outputs": [],
   "source": [
    "fire2020 = pd.read_csv('../data/2020fireincident.txt', delimiter = '^')\n",
    "fire2020"
   ]
  },
  {
   "cell_type": "markdown",
   "id": "44e98d82",
   "metadata": {},
   "source": [
    "### 2020 Fire incident addresses (United States)"
   ]
  },
  {
   "cell_type": "code",
   "execution_count": null,
   "id": "f0dc3b95",
   "metadata": {},
   "outputs": [],
   "source": [
    "fire2020_address = pd.read_csv('../data/2020incidentaddress.txt', delimiter = '^', encoding='latin-1')\n",
    "fire2020_address"
   ]
  },
  {
   "cell_type": "markdown",
   "id": "847456b8",
   "metadata": {},
   "source": [
    "### 2020 Fire Causes"
   ]
  },
  {
   "cell_type": "code",
   "execution_count": null,
   "id": "3d76e580",
   "metadata": {},
   "outputs": [],
   "source": [
    "firecauses2020 = pd.read_csv('../data/2020causes.txt', delimiter = '^')\n",
    "firecauses2020"
   ]
  },
  {
   "cell_type": "code",
   "execution_count": null,
   "id": "78781bfb",
   "metadata": {},
   "outputs": [],
   "source": [
    "firecauses2020.CAUSE_CODE = firecauses2020.CAUSE_CODE.astype(str).str.strip()\n",
    "firecauses2020.CAUSE_CODE.unique()"
   ]
  },
  {
   "cell_type": "code",
   "execution_count": null,
   "id": "733e7bd2",
   "metadata": {},
   "outputs": [],
   "source": [
    "dict = {'15' : 'Other Unintentional', '1' : 'Intentional', \"2\" : 'Playing with Heat Source', '3' : 'Smoking', '4' : 'Heating', '5' : 'Cooking', '6' : 'Electrical Malfunction', '7' : 'Appliances', '8' : 'Open Flame', '9' : 'Other Heat', '10' : 'Other Equiptment', '11' : 'Natural', '12' : 'Exposure', '13' : 'Unknown', '14' : 'Equiptment Misoperation, Failure', '16' : 'Investigation with Arson Module'}\n",
    "\n",
    "firecauses2020['CAUSE_CODE'] = firecauses2020['CAUSE_CODE'].replace(dict)\n",
    "firecauses2020"
   ]
  },
  {
   "cell_type": "markdown",
   "id": "a1ad9948",
   "metadata": {},
   "source": [
    "### 2020 Fire incident address (TN)"
   ]
  },
  {
   "cell_type": "code",
   "execution_count": null,
   "id": "91a6fbdf",
   "metadata": {},
   "outputs": [],
   "source": [
    "fire2020_TNaddress = fire2020_address.loc[fire2020_address['STATE_ID'] == 'TN'].drop('ZIP4', axis = 1)\n",
    "fire2020_TNaddress = fire2020_TNaddress.reset_index(drop = True)\n",
    "fire2020_TNaddress"
   ]
  },
  {
   "cell_type": "code",
   "execution_count": null,
   "id": "412b9746",
   "metadata": {},
   "outputs": [],
   "source": [
    "fire2020_TNaddress = fire2020_TNaddress.loc[fire2020_TNaddress['STATE'] == 'TN']\n",
    "fire2020_TNaddress"
   ]
  },
  {
   "cell_type": "markdown",
   "id": "3752cb4c",
   "metadata": {},
   "source": [
    "#### Changing case on 'STREETNAME', 'STREETTYPE', 'CITY', and 'STATE_ID'"
   ]
  },
  {
   "cell_type": "code",
   "execution_count": null,
   "id": "ceb2b9b0",
   "metadata": {},
   "outputs": [],
   "source": [
    "fire2020_TNaddress['STREETNAME'] = fire2020_TNaddress['STREETNAME'].str.title()\n",
    "fire2020_TNaddress['STREETTYPE'] = fire2020_TNaddress['STREETTYPE'].str.title()\n",
    "fire2020_TNaddress['CITY'] = fire2020_TNaddress['CITY'].str.title()\n",
    "fire2020_TNaddress['STATE_ID'] = fire2020_TNaddress['STATE_ID'].str.upper()\n",
    "fire2020_TNaddress"
   ]
  },
  {
   "cell_type": "markdown",
   "id": "f161431e",
   "metadata": {},
   "source": [
    "#### Changing 'INC_DATE' to datetime"
   ]
  },
  {
   "cell_type": "code",
   "execution_count": null,
   "id": "618ae349",
   "metadata": {},
   "outputs": [],
   "source": [
    "fire2020_TNaddress['incident_date'] = pd.to_datetime(fire2020_TNaddress['INC_DATE'], format='%m%d%Y')"
   ]
  },
  {
   "cell_type": "code",
   "execution_count": null,
   "id": "2442d6ec",
   "metadata": {},
   "outputs": [],
   "source": [
    "fire2020_TNaddress = fire2020_TNaddress.drop(columns=['INC_DATE'])\n",
    "fire2020_TNaddress"
   ]
  },
  {
   "cell_type": "markdown",
   "id": "f893d245",
   "metadata": {},
   "source": [
    "#### Extract the first 5 digits of the zipcode in order to drop the '.0'"
   ]
  },
  {
   "cell_type": "code",
   "execution_count": null,
   "id": "49dc8923",
   "metadata": {},
   "outputs": [],
   "source": [
    "fire2020_TNaddress['ZIP5'] = fire2020_TNaddress['ZIP5'].astype(str).str.replace('\\.0$', '', regex=True)\n",
    "fire2020_TNaddress"
   ]
  },
  {
   "cell_type": "markdown",
   "id": "9cd6374e",
   "metadata": {},
   "source": [
    "### 2020 Fire Incident addresses (Nashville, TN)\n",
    "#### (possibly narrow down to just specific zipcodes in which Nash Fire Dept responds to. For visulization purposes, follow the 'TN fire stats' link in favorites bar. TN State stats, Davidson Co stats, Nash/zipcode stats))"
   ]
  },
  {
   "cell_type": "code",
   "execution_count": null,
   "id": "cbb5fef9",
   "metadata": {},
   "outputs": [],
   "source": [
    "fire2020_nash_address = fire2020_TNaddress.loc[fire2020_TNaddress['CITY'] == 'Nashville']\n",
    "fire2020_nash_address = fire2020_nash_address.reset_index(drop = True)\n",
    "fire2020_nash_address.head()"
   ]
  },
  {
   "cell_type": "markdown",
   "id": "7ad20654",
   "metadata": {},
   "source": [
    "### Combining All 2020 Tables"
   ]
  },
  {
   "cell_type": "code",
   "execution_count": null,
   "id": "98487032",
   "metadata": {},
   "outputs": [],
   "source": [
    "tn2020 = pd.merge(firecauses2020, fire2020_TNaddress, \n",
    "                               on = 'INCIDENT_KEY', \n",
    "                               how = 'inner')\n",
    "tn2020 = tn2020[['INCIDENT_KEY', 'incident_date', 'STATE_x', 'FDID_x', 'INC_NO_x', 'CAUSE_CODE', 'NUM_MILE', 'STREET_PRE','STREETNAME', 'STREETTYPE', 'STREETSUF', 'APT_NO','CITY', 'STATE_ID', 'ZIP5']]\n",
    "tn2020.to_csv('tn2020.csv')"
   ]
  },
  {
   "cell_type": "code",
   "execution_count": null,
   "id": "9faea6f1",
   "metadata": {},
   "outputs": [],
   "source": [
    "nash2020 = pd.merge(firecauses2020, fire2020_nash_address, \n",
    "                               on = 'INCIDENT_KEY', \n",
    "                               how = 'inner')\n",
    "nash2020 = nash2020[['INCIDENT_KEY', 'incident_date', 'STATE_x', 'FDID_x', 'INC_NO_x', 'CAUSE_CODE', 'NUM_MILE', 'STREET_PRE','STREETNAME', 'STREETTYPE', 'STREETSUF', 'APT_NO','CITY', 'STATE_ID', 'ZIP5']]\n",
    "nash2020.to_csv('nash2020.csv')"
   ]
  },
  {
   "cell_type": "markdown",
   "id": "d49b1405",
   "metadata": {},
   "source": [
    "# 2019 All Fire Incident  (United States)"
   ]
  },
  {
   "cell_type": "code",
   "execution_count": null,
   "id": "57304bf3",
   "metadata": {},
   "outputs": [],
   "source": [
    "fire2019 = pd.read_csv('../data/2019fireincident.txt', delimiter = '^')\n",
    "fire2019"
   ]
  },
  {
   "cell_type": "markdown",
   "id": "fbb3822b",
   "metadata": {},
   "source": [
    "### 2019 Fire incident addresses (United States)"
   ]
  },
  {
   "cell_type": "code",
   "execution_count": null,
   "id": "f97c058d",
   "metadata": {},
   "outputs": [],
   "source": [
    "fire2019_address = pd.read_csv('../data/2019incidentaddress.txt', delimiter = '^', encoding='latin-1')\n",
    "fire2019_address"
   ]
  },
  {
   "cell_type": "markdown",
   "id": "df5ae654",
   "metadata": {},
   "source": [
    "### 2019 Fire Causes"
   ]
  },
  {
   "cell_type": "code",
   "execution_count": null,
   "id": "f316b500",
   "metadata": {},
   "outputs": [],
   "source": [
    "firecauses2019 = pd.read_csv('../data/2019causes.txt', delimiter = '^')\n",
    "firecauses2019"
   ]
  },
  {
   "cell_type": "code",
   "execution_count": null,
   "id": "9fb19694",
   "metadata": {},
   "outputs": [],
   "source": [
    "firecauses2019.CAUSE_CODE = firecauses2019.CAUSE_CODE.astype(str).str.strip()\n",
    "firecauses2019.CAUSE_CODE.unique()"
   ]
  },
  {
   "cell_type": "code",
   "execution_count": null,
   "id": "a0acc832",
   "metadata": {},
   "outputs": [],
   "source": [
    "dict = {'15' : 'Other Unintentional', '1' : 'Intentional', \"2\" : 'Playing with Heat Source', '3' : 'Smoking', '4' : 'Heating', '5' : 'Cooking', '6' : 'Electrical Malfunction', '7' : 'Appliances', '8' : 'Open Flame', '9' : 'Other Heat', '10' : 'Other Equiptment', '11' : 'Natural', '12' : 'Exposure', '13' : 'Unknown', '14' : 'Equiptment Misoperation, Failure', '16' : 'Investigation with Arson Module'}\n",
    "\n",
    "firecauses2019['CAUSE_CODE'] = firecauses2019['CAUSE_CODE'].replace(dict)\n",
    "firecauses2019"
   ]
  },
  {
   "cell_type": "markdown",
   "id": "74a065b2",
   "metadata": {},
   "source": [
    "### 2019 Fire incident address (TN)"
   ]
  },
  {
   "cell_type": "code",
   "execution_count": null,
   "id": "7811ecd2",
   "metadata": {},
   "outputs": [],
   "source": [
    "fire2019_TNaddress = fire2019_address.loc[fire2019_address['STATE_ID'] == 'TN'].drop('ZIP4', axis = 1)\n",
    "fire2019_TNaddress = fire2019_TNaddress.reset_index(drop = True)\n",
    "fire2019_TNaddress"
   ]
  },
  {
   "cell_type": "code",
   "execution_count": null,
   "id": "1af53017",
   "metadata": {},
   "outputs": [],
   "source": [
    "fire2019_TNaddress = fire2019_TNaddress.loc[fire2019_TNaddress['STATE'] == 'TN']\n",
    "fire2019_TNaddress"
   ]
  },
  {
   "cell_type": "markdown",
   "id": "3d352274",
   "metadata": {},
   "source": [
    "#### Changing case on 'STREETNAME', 'STREETTYPE', 'CITY', and 'STATE_ID'"
   ]
  },
  {
   "cell_type": "code",
   "execution_count": null,
   "id": "f5f4f1d4",
   "metadata": {},
   "outputs": [],
   "source": [
    "fire2019_TNaddress['STREETNAME'] = fire2019_TNaddress['STREETNAME'].str.title()\n",
    "fire2019_TNaddress['STREETTYPE'] = fire2019_TNaddress['STREETTYPE'].str.title()\n",
    "fire2019_TNaddress['CITY'] = fire2019_TNaddress['CITY'].str.title()\n",
    "fire2019_TNaddress['STATE_ID'] = fire2019_TNaddress['STATE_ID'].str.upper()\n",
    "fire2019_TNaddress"
   ]
  },
  {
   "cell_type": "markdown",
   "id": "5e766f50",
   "metadata": {},
   "source": [
    "#### Changing 'INC_DATE' to datetime"
   ]
  },
  {
   "cell_type": "code",
   "execution_count": null,
   "id": "bf1e4bb1",
   "metadata": {},
   "outputs": [],
   "source": [
    "fire2019_TNaddress['incident_date'] = pd.to_datetime(fire2019_TNaddress['INC_DATE'], format='%m%d%Y')\n",
    "fire2019_TNaddress = fire2019_TNaddress.drop(columns=['INC_DATE'])\n",
    "fire2019_TNaddress"
   ]
  },
  {
   "cell_type": "markdown",
   "id": "c6b1680b",
   "metadata": {},
   "source": [
    "#### Extract the first 5 digits of the zipcode in order to drop the '.0'"
   ]
  },
  {
   "cell_type": "code",
   "execution_count": null,
   "id": "48259a64",
   "metadata": {},
   "outputs": [],
   "source": [
    "fire2019_TNaddress['ZIP5'] = fire2019_TNaddress['ZIP5'].astype(str).str.replace('\\.0$', '', regex=True)\n",
    "fire2019_TNaddress"
   ]
  },
  {
   "cell_type": "markdown",
   "id": "ca9c8c4d",
   "metadata": {},
   "source": [
    "### 2019 Fire Incident addresses (Nashville, TN)\n",
    "#### (possibly narrow down to just specific zipcodes in which Nash Fire Dept responds to. For visulization purposes, follow the 'TN fire stats' link in favorites bar. TN State stats, Davidson Co stats, Nash/zipcode stats))"
   ]
  },
  {
   "cell_type": "code",
   "execution_count": null,
   "id": "e2443e57",
   "metadata": {},
   "outputs": [],
   "source": [
    "fire2019_nash_address = fire2019_TNaddress.loc[fire2019_TNaddress['CITY'] == 'Nashville']\n",
    "fire2019_nash_address = fire2019_nash_address.reset_index(drop = True)\n",
    "fire2019_nash_address.head()"
   ]
  },
  {
   "cell_type": "markdown",
   "id": "a23e0091",
   "metadata": {},
   "source": [
    "### Combining All 2019 Tables\n",
    "# saved to csv"
   ]
  },
  {
   "cell_type": "code",
   "execution_count": null,
   "id": "d87966ba",
   "metadata": {},
   "outputs": [],
   "source": [
    "tn2019 = pd.merge(firecauses2019, fire2019_TNaddress, \n",
    "                               on = 'INCIDENT_KEY', \n",
    "                               how = 'inner')\n",
    "tn2019 = tn2019[['INCIDENT_KEY', 'incident_date', 'STATE_x', 'FDID_x', 'INC_NO_x', 'CAUSE_CODE', 'NUM_MILE', 'STREET_PRE','STREETNAME', 'STREETTYPE', 'STREETSUF', 'APT_NO','CITY', 'STATE_ID', 'ZIP5']]\n",
    "tn2019.to_csv('tn2019.csv')\n",
    "tn2019"
   ]
  },
  {
   "cell_type": "code",
   "execution_count": null,
   "id": "621cb44c",
   "metadata": {},
   "outputs": [],
   "source": [
    "nash2019 = pd.merge(firecauses2019, fire2019_nash_address, \n",
    "                               on = 'INCIDENT_KEY', \n",
    "                               how = 'inner')\n",
    "nash2019 = nash2019[['INCIDENT_KEY', 'incident_date', 'STATE_x', 'FDID_x', 'INC_NO_x', 'CAUSE_CODE', 'NUM_MILE', 'STREET_PRE','STREETNAME', 'STREETTYPE', 'STREETSUF', 'APT_NO','CITY', 'STATE_ID', 'ZIP5']]\n",
    "nash2019.to_csv('nash2019.csv')\n",
    "nash2019"
   ]
  },
  {
   "cell_type": "markdown",
   "id": "40577a4c",
   "metadata": {},
   "source": [
    "# 2018 All Fire Incident  (United States)"
   ]
  },
  {
   "cell_type": "code",
   "execution_count": null,
   "id": "f200c20d",
   "metadata": {},
   "outputs": [],
   "source": [
    "fire2018 = pd.read_csv('../data/2018fireincident.txt', delimiter = '^')\n",
    "fire2018"
   ]
  },
  {
   "cell_type": "markdown",
   "id": "1b4179e1",
   "metadata": {},
   "source": [
    "### 2018 Fire incident addresses (United States)"
   ]
  },
  {
   "cell_type": "code",
   "execution_count": null,
   "id": "83824e9f",
   "metadata": {},
   "outputs": [],
   "source": [
    "fire2018_address = pd.read_csv('../data/2018incidentaddress.txt', delimiter = '^', encoding='latin-1')\n",
    "fire2018_address"
   ]
  },
  {
   "cell_type": "markdown",
   "id": "ca332428",
   "metadata": {},
   "source": [
    "### 2018 Fire Causes"
   ]
  },
  {
   "cell_type": "code",
   "execution_count": null,
   "id": "84bc2649",
   "metadata": {},
   "outputs": [],
   "source": [
    "firecauses2018 = pd.read_csv('../data/2018causes.txt', delimiter = '^')\n",
    "firecauses2018"
   ]
  },
  {
   "cell_type": "code",
   "execution_count": null,
   "id": "16ed5d81",
   "metadata": {},
   "outputs": [],
   "source": [
    "firecauses2018.CAUSE_CODE = firecauses2018.CAUSE_CODE.astype(str).str.strip()\n",
    "firecauses2018.CAUSE_CODE.unique()"
   ]
  },
  {
   "cell_type": "code",
   "execution_count": null,
   "id": "8ba1e42c",
   "metadata": {},
   "outputs": [],
   "source": [
    "dict = {'15' : 'Other Unintentional', '1' : 'Intentional', \"2\" : 'Playing with Heat Source', '3' : 'Smoking', '4' : 'Heating', '5' : 'Cooking', '6' : 'Electrical Malfunction', '7' : 'Appliances', '8' : 'Open Flame', '9' : 'Other Heat', '10' : 'Other Equiptment', '11' : 'Natural', '12' : 'Exposure', '13' : 'Unknown', '14' : 'Equiptment Misoperation, Failure', '16' : 'Investigation with Arson Module'}\n",
    "\n",
    "firecauses2018['CAUSE_CODE'] = firecauses2018['CAUSE_CODE'].replace(dict)\n",
    "firecauses2018"
   ]
  },
  {
   "cell_type": "markdown",
   "id": "540ce48a",
   "metadata": {},
   "source": [
    "### 2018 Fire incident address (TN)"
   ]
  },
  {
   "cell_type": "code",
   "execution_count": null,
   "id": "d8bedaac",
   "metadata": {},
   "outputs": [],
   "source": [
    "fire2018_TNaddress = fire2018_address.loc[fire2018_address['STATE_ID'] == 'TN'].drop('ZIP4', axis = 1)\n",
    "fire2018_TNaddress = fire2018_TNaddress.reset_index(drop = True)\n",
    "fire2018_TNaddress"
   ]
  },
  {
   "cell_type": "code",
   "execution_count": null,
   "id": "ce828d28",
   "metadata": {},
   "outputs": [],
   "source": [
    "fire2018_TNaddress = fire2018_TNaddress.loc[fire2018_TNaddress['STATE'] == 'TN']\n",
    "fire2018_TNaddress"
   ]
  },
  {
   "cell_type": "markdown",
   "id": "2b0818e7",
   "metadata": {},
   "source": [
    "#### Changing case on 'STREETNAME', 'STREETTYPE', 'CITY', and 'STATE_ID'"
   ]
  },
  {
   "cell_type": "code",
   "execution_count": null,
   "id": "83d5c1ec",
   "metadata": {
    "scrolled": true
   },
   "outputs": [],
   "source": [
    "fire2018_TNaddress['STREETNAME'] = fire2018_TNaddress['STREETNAME'].str.title()\n",
    "fire2018_TNaddress['STREETTYPE'] = fire2018_TNaddress['STREETTYPE'].str.title()\n",
    "fire2018_TNaddress['CITY'] = fire2018_TNaddress['CITY'].str.title()\n",
    "fire2018_TNaddress['STATE_ID'] = fire2018_TNaddress['STATE_ID'].str.upper()\n",
    "fire2018_TNaddress"
   ]
  },
  {
   "cell_type": "markdown",
   "id": "13ed0afc",
   "metadata": {},
   "source": [
    "#### Changing 'INC_DATE' to datetime"
   ]
  },
  {
   "cell_type": "code",
   "execution_count": null,
   "id": "0220d01b",
   "metadata": {
    "scrolled": true
   },
   "outputs": [],
   "source": [
    "fire2018_TNaddress['incident_date'] = pd.to_datetime(fire2018_TNaddress['INC_DATE'], format='%m%d%Y')\n",
    "fire2018_TNaddress = fire2018_TNaddress.drop(columns=['INC_DATE'])\n",
    "fire2018_TNaddress"
   ]
  },
  {
   "cell_type": "markdown",
   "id": "71fb7dc9",
   "metadata": {},
   "source": [
    "#### Extract the first 5 digits of the zipcode in order to drop the '.0'"
   ]
  },
  {
   "cell_type": "code",
   "execution_count": null,
   "id": "f5bf8b7d",
   "metadata": {},
   "outputs": [],
   "source": [
    "fire2018_TNaddress['ZIP5'] = fire2018_TNaddress['ZIP5'].astype(str).str.replace('\\.0$', '', regex=True)\n",
    "fire2018_TNaddress"
   ]
  },
  {
   "cell_type": "markdown",
   "id": "f1a9f0ee",
   "metadata": {},
   "source": [
    "### 2018 Fire Incident addresses (Nashville, TN)\n",
    "#### (possibly narrow down to just specific zipcodes in which Nash Fire Dept responds to. For visulization purposes, follow the 'TN fire stats' link in favorites bar. TN State stats, Davidson Co stats, Nash/zipcode stats))"
   ]
  },
  {
   "cell_type": "code",
   "execution_count": null,
   "id": "54d241d4",
   "metadata": {},
   "outputs": [],
   "source": [
    "fire2018_nash_address = fire2018_TNaddress.loc[fire2018_TNaddress['CITY'] == 'Nashville']\n",
    "fire2018_nash_address = fire2018_nash_address.reset_index(drop = True)\n",
    "fire2018_nash_address.head()"
   ]
  },
  {
   "cell_type": "markdown",
   "id": "f0a1093c",
   "metadata": {},
   "source": [
    "### Combining All 2018 Tables\n",
    "# saved to csv"
   ]
  },
  {
   "cell_type": "code",
   "execution_count": null,
   "id": "27a005f1",
   "metadata": {},
   "outputs": [],
   "source": [
    "tn2018 = pd.merge(firecauses2018, fire2018_TNaddress, \n",
    "                               on = 'INC_NO', \n",
    "                               how = 'inner')\n",
    "tn2018 = tn2018[['INC_NO', 'incident_date', 'STATE_x', 'FDID_x', 'CAUSE_CODE', 'NUM_MILE', 'STREET_PRE','STREETNAME', 'STREETTYPE', 'STREETSUF', 'APT_NO','CITY', 'STATE_ID', 'ZIP5']]\n",
    "tn2018.to_csv('tn2018.csv')\n",
    "tn2018"
   ]
  },
  {
   "cell_type": "code",
   "execution_count": null,
   "id": "72c42a94",
   "metadata": {},
   "outputs": [],
   "source": [
    "nash2018 = pd.merge(firecauses2018, fire2018_nash_address, \n",
    "                               on = 'INC_NO', \n",
    "                               how = 'inner')\n",
    "nash2018 = nash2018[['INC_NO', 'incident_date', 'STATE_x', 'FDID_x', 'CAUSE_CODE', 'NUM_MILE', 'STREET_PRE','STREETNAME', 'STREETTYPE', 'STREETSUF', 'APT_NO','CITY', 'STATE_ID', 'ZIP5']]\n",
    "nash2018.to_csv('nash2018.csv')\n",
    "nash2018"
   ]
  },
  {
   "cell_type": "markdown",
   "id": "d2023e4f",
   "metadata": {},
   "source": [
    "# 2017 All Fire Incident  (United States)"
   ]
  },
  {
   "cell_type": "code",
   "execution_count": null,
   "id": "111e0c8d",
   "metadata": {},
   "outputs": [],
   "source": [
    "fire2017 = pd.read_csv('../data/2017fireincident.txt', delimiter = '^')\n",
    "fire2017"
   ]
  },
  {
   "cell_type": "markdown",
   "id": "ce790a1e",
   "metadata": {},
   "source": [
    "### 2017 Fire incident addresses (United States)"
   ]
  },
  {
   "cell_type": "code",
   "execution_count": null,
   "id": "21712dca",
   "metadata": {},
   "outputs": [],
   "source": [
    "fire2017_address = pd.read_csv('../data/2017incidentaddress.txt', delimiter = '^', encoding='latin-1')\n",
    "fire2017_address"
   ]
  },
  {
   "cell_type": "markdown",
   "id": "b4dfcc6c",
   "metadata": {},
   "source": [
    "### 2017 Fire Causes"
   ]
  },
  {
   "cell_type": "code",
   "execution_count": null,
   "id": "b2801d13",
   "metadata": {},
   "outputs": [],
   "source": [
    "firecauses2017 = pd.read_csv('../data/2017causes.txt', delimiter = '^')\n",
    "firecauses2017"
   ]
  },
  {
   "cell_type": "code",
   "execution_count": null,
   "id": "d14ad07a",
   "metadata": {},
   "outputs": [],
   "source": [
    "firecauses2017.CAUSE_CODE = firecauses2017.CAUSE_CODE.astype(str).str.strip()\n",
    "firecauses2017.CAUSE_CODE.unique()"
   ]
  },
  {
   "cell_type": "code",
   "execution_count": null,
   "id": "b623b7c4",
   "metadata": {},
   "outputs": [],
   "source": [
    "dict = {'15' : 'Other Unintentional', '1' : 'Intentional', \"2\" : 'Playing with Heat Source', '3' : 'Smoking', '4' : 'Heating', '5' : 'Cooking', '6' : 'Electrical Malfunction', '7' : 'Appliances', '8' : 'Open Flame', '9' : 'Other Heat', '10' : 'Other Equiptment', '11' : 'Natural', '12' : 'Exposure', '13' : 'Unknown', '14' : 'Equiptment Misoperation, Failure', '16' : 'Investigation with Arson Module'}\n",
    "\n",
    "firecauses2017['CAUSE_CODE'] = firecauses2017['CAUSE_CODE'].replace(dict)\n",
    "firecauses2017"
   ]
  },
  {
   "cell_type": "markdown",
   "id": "cb44114a",
   "metadata": {},
   "source": [
    "### 2017 Fire incident address (TN)"
   ]
  },
  {
   "cell_type": "code",
   "execution_count": null,
   "id": "cc339e34",
   "metadata": {},
   "outputs": [],
   "source": [
    "fire2017_TNaddress = fire2017_address.loc[fire2017_address['STATE_ID'] == 'TN'].drop('ZIP4', axis = 1)\n",
    "fire2017_TNaddress = fire2017_TNaddress.reset_index(drop = True)\n",
    "fire2017_TNaddress"
   ]
  },
  {
   "cell_type": "code",
   "execution_count": null,
   "id": "cf13da4a",
   "metadata": {},
   "outputs": [],
   "source": [
    "fire2017_TNaddress = fire2017_TNaddress.loc[fire2017_TNaddress['STATE'] == 'TN']\n",
    "fire2017_TNaddress"
   ]
  },
  {
   "cell_type": "markdown",
   "id": "2c6ac121",
   "metadata": {},
   "source": [
    "#### Changing case on 'STREETNAME', 'STREETTYPE', 'CITY', and 'STATE_ID'"
   ]
  },
  {
   "cell_type": "code",
   "execution_count": null,
   "id": "041f3870",
   "metadata": {},
   "outputs": [],
   "source": [
    "fire2017_TNaddress['STREETNAME'] = fire2017_TNaddress['STREETNAME'].str.title()\n",
    "fire2017_TNaddress['STREETTYPE'] = fire2017_TNaddress['STREETTYPE'].str.title()\n",
    "fire2017_TNaddress['CITY'] = fire2017_TNaddress['CITY'].str.title()\n",
    "fire2017_TNaddress['STATE_ID'] = fire2017_TNaddress['STATE_ID'].str.upper()\n",
    "fire2017_TNaddress"
   ]
  },
  {
   "cell_type": "markdown",
   "id": "6b6554bf",
   "metadata": {},
   "source": [
    "#### Changing 'INC_DATE' to datetime"
   ]
  },
  {
   "cell_type": "code",
   "execution_count": null,
   "id": "6054ed96",
   "metadata": {},
   "outputs": [],
   "source": [
    "fire2017_TNaddress['incident_date'] = pd.to_datetime(fire2017_TNaddress['INC_DATE'], format='%m%d%Y')\n",
    "fire2017_TNaddress = fire2017_TNaddress.drop(columns=['INC_DATE'])\n",
    "fire2017_TNaddress"
   ]
  },
  {
   "cell_type": "markdown",
   "id": "64d0abe5",
   "metadata": {},
   "source": [
    "#### Extract the first 5 digits of the zipcode in order to drop the '.0'"
   ]
  },
  {
   "cell_type": "code",
   "execution_count": null,
   "id": "69807f1f",
   "metadata": {},
   "outputs": [],
   "source": [
    "fire2017_TNaddress['ZIP5'] = fire2017_TNaddress['ZIP5'].astype(str).str.replace('\\.0$', '', regex=True)\n",
    "fire2017_TNaddress"
   ]
  },
  {
   "cell_type": "markdown",
   "id": "eafcdf7c",
   "metadata": {},
   "source": [
    "### 2017 Fire Incident addresses (Nashville, TN)\n",
    "#### (possibly narrow down to just specific zipcodes in which Nash Fire Dept responds to. For visulization purposes, follow the 'TN fire stats' link in favorites bar. TN State stats, Davidson Co stats, Nash/zipcode stats))"
   ]
  },
  {
   "cell_type": "code",
   "execution_count": null,
   "id": "74bcc883",
   "metadata": {},
   "outputs": [],
   "source": [
    "fire2017_nash_address = fire2017_TNaddress.loc[fire2017_TNaddress['CITY'] == 'Nashville']\n",
    "fire2017_nash_address = fire2017_nash_address.reset_index(drop = True)\n",
    "fire2017_nash_address.head()"
   ]
  },
  {
   "cell_type": "markdown",
   "id": "7757ddf5",
   "metadata": {},
   "source": [
    "### Combining All 2017 Tables\n",
    "# saved to csv"
   ]
  },
  {
   "cell_type": "code",
   "execution_count": null,
   "id": "f7cd440c",
   "metadata": {},
   "outputs": [],
   "source": [
    "tn2017 = pd.merge(firecauses2017, fire2017_TNaddress, \n",
    "                               on = 'INC_NO', \n",
    "                               how = 'inner')\n",
    "tn2017 = tn2017[['INC_NO', 'incident_date', 'FDID_x', 'CAUSE_CODE', 'NUM_MILE', 'STREET_PRE','STREETNAME', 'STREETTYPE', 'STREETSUF', 'APT_NO','CITY', 'STATE_ID', 'ZIP5']]\n",
    "tn2017.to_csv('tn2017.csv')\n",
    "tn2017"
   ]
  },
  {
   "cell_type": "code",
   "execution_count": null,
   "id": "ca7467ff",
   "metadata": {},
   "outputs": [],
   "source": [
    "nash2017 = pd.merge(firecauses2017, fire2017_nash_address, \n",
    "                               on = 'INC_NO', \n",
    "                               how = 'inner')\n",
    "nash2017 = nash2017[['INC_NO', 'incident_date', 'FDID_x', 'CAUSE_CODE', 'NUM_MILE', 'STREET_PRE','STREETNAME', 'STREETTYPE', 'STREETSUF', 'APT_NO','CITY', 'STATE_ID', 'ZIP5']]\n",
    "nash2017.to_csv('nash2017.csv')\n",
    "nash2017"
   ]
  },
  {
   "cell_type": "markdown",
   "id": "9a05898b",
   "metadata": {},
   "source": [
    "## Combining All Years for Nash"
   ]
  },
  {
   "cell_type": "code",
   "execution_count": null,
   "id": "b7978cc3",
   "metadata": {},
   "outputs": [],
   "source": [
    "nash2021 = pd.read_csv('nash2021.csv')\n",
    "nash2020 = pd.read_csv('nash2020.csv')"
   ]
  },
  {
   "cell_type": "code",
   "execution_count": null,
   "id": "5bc45f79",
   "metadata": {},
   "outputs": [],
   "source": [
    "nash2021"
   ]
  },
  {
   "cell_type": "code",
   "execution_count": null,
   "id": "1218464f",
   "metadata": {},
   "outputs": [],
   "source": [
    "nash20_21 = pd.concat([nash2020, nash2021], ignore_index=True)\n",
    "nash20_21"
   ]
  },
  {
   "cell_type": "code",
   "execution_count": null,
   "id": "f50ff1b7",
   "metadata": {},
   "outputs": [],
   "source": [
    "nash20s_19 = pd.concat([nash20_21, nash2019], ignore_index=True)\n",
    "nash20s_19"
   ]
  },
  {
   "cell_type": "code",
   "execution_count": null,
   "id": "bdf8ff0f",
   "metadata": {},
   "outputs": [],
   "source": [
    "nash2019 = pd.read_csv('nash2019.csv')"
   ]
  },
  {
   "cell_type": "code",
   "execution_count": null,
   "id": "b993c7e1",
   "metadata": {},
   "outputs": [],
   "source": [
    "nash20s_18 = pd.concat([nash20s_19, nash2018], ignore_index=True)\n",
    "nash20s_18"
   ]
  },
  {
   "cell_type": "code",
   "execution_count": null,
   "id": "9846cac3",
   "metadata": {},
   "outputs": [],
   "source": [
    "nash2018 = pd.read_csv('nash2018.csv')\n",
    "nash2018['INC_NO_x'] = nash2018['INC_NO']\n",
    "nash2018 = nash2018[['incident_date', 'STATE_x', 'FDID_x', 'INC_NO_x', 'CAUSE_CODE', 'NUM_MILE', 'STREET_PRE','STREETNAME', 'STREETTYPE', 'STREETSUF', 'APT_NO','CITY', 'STATE_ID', 'ZIP5']]\n",
    "nash2018 = nash2018.loc[nash2018['STATE_x'] == 'TN']\n",
    "nash2018.to_csv('nash2018.csv')"
   ]
  },
  {
   "cell_type": "code",
   "execution_count": null,
   "id": "0d5652d9",
   "metadata": {},
   "outputs": [],
   "source": [
    "nash2017 = pd.read_csv('nash2017.csv')\n",
    "nash2017['INC_NO_x'] = nash2017['INC_NO']\n",
    "nash2017 = nash2017[['incident_date', 'FDID_x', 'INC_NO_x', 'CAUSE_CODE', 'NUM_MILE', 'STREET_PRE','STREETNAME', 'STREETTYPE', 'STREETSUF', 'APT_NO','CITY', 'STATE_ID', 'ZIP5']]\n",
    "nash2017"
   ]
  },
  {
   "cell_type": "code",
   "execution_count": null,
   "id": "cc6fefdc",
   "metadata": {},
   "outputs": [],
   "source": [
    "nashfires = pd.concat([nash20s_18, nash2017], ignore_index=True)\n",
    "nashfires.reset_index(drop = True)"
   ]
  },
  {
   "cell_type": "code",
   "execution_count": null,
   "id": "561752f4",
   "metadata": {},
   "outputs": [],
   "source": [
    "nashfires.INC_NO_x.nunique()"
   ]
  },
  {
   "cell_type": "code",
   "execution_count": null,
   "id": "a9f5cd5d",
   "metadata": {},
   "outputs": [],
   "source": [
    "nashfires['incident_date'] = pd.to_datetime(nashfires['incident_date'])\n",
    "nashfires"
   ]
  },
  {
   "cell_type": "code",
   "execution_count": null,
   "id": "d44861c0",
   "metadata": {},
   "outputs": [],
   "source": [
    "def season(month):\n",
    "    if month in [3, 4, 5]:\n",
    "        return 'Spring'\n",
    "    elif month in [6, 7, 8]:\n",
    "        return 'Summer'\n",
    "    elif month in [9, 10, 11]:\n",
    "        return 'Fall'\n",
    "    else:\n",
    "        return 'Winter'\n",
    "    \n",
    "nashfires['Season'] = nashfires['incident_date'].dt.month.apply(season)\n",
    "nashfires"
   ]
  },
  {
   "cell_type": "code",
   "execution_count": null,
   "id": "8ae25478",
   "metadata": {},
   "outputs": [],
   "source": [
    "nashfires['NUM_MILE'] = nashfires['NUM_MILE'].astype(str)\n",
    "nashfires['APT_NO'] = nashfires['APT_NO'].astype(str)"
   ]
  },
  {
   "cell_type": "code",
   "execution_count": null,
   "id": "ef497ab0",
   "metadata": {
    "scrolled": true
   },
   "outputs": [],
   "source": [
    "nashfires['Address'] = (\n",
    "    nashfires['NUM_MILE'].fillna(' ') + (' ') +\n",
    "    nashfires['STREET_PRE'].fillna(' ') + (' ') +\n",
    "    nashfires['STREETNAME'].fillna(' ') + (' ') +\n",
    "    nashfires['STREETTYPE'].fillna(' ') + (' ') +\n",
    "    nashfires['STREETSUF'].fillna(' ')\n",
    ")\n",
    "\n",
    "nashfires['Address'] = nashfires['Address'].str.strip()\n",
    "nashfires.to_csv('nashfires.csv')"
   ]
  },
  {
   "cell_type": "markdown",
   "id": "13ab6974",
   "metadata": {},
   "source": [
    "### Count of how many fires per season in Nashville from 2017-2021"
   ]
  },
  {
   "cell_type": "code",
   "execution_count": null,
   "id": "207202cd",
   "metadata": {},
   "outputs": [],
   "source": [
    "import pandas as pd"
   ]
  },
  {
   "cell_type": "code",
   "execution_count": null,
   "id": "d44dfaa1",
   "metadata": {},
   "outputs": [],
   "source": [
    "nashfires = pd.read_csv('data/nashfires.csv')"
   ]
  },
  {
   "cell_type": "code",
   "execution_count": null,
   "id": "8dfbf5cf",
   "metadata": {},
   "outputs": [],
   "source": [
    "nashfires['Season'].value_counts()"
   ]
  },
  {
   "cell_type": "code",
   "execution_count": null,
   "id": "16937e7d",
   "metadata": {
    "scrolled": true
   },
   "outputs": [],
   "source": [
    "nashfires['CAUSE_CODE'].value_counts()"
   ]
  },
  {
   "cell_type": "code",
   "execution_count": null,
   "id": "7cc2326b",
   "metadata": {},
   "outputs": [],
   "source": [
    "nashfires['ZIP5'].nunique()"
   ]
  },
  {
   "cell_type": "code",
   "execution_count": null,
   "id": "210927f2",
   "metadata": {},
   "outputs": [],
   "source": []
  },
  {
   "cell_type": "markdown",
   "id": "4668eed5",
   "metadata": {},
   "source": [
    "## Combining All Years for TN\n"
   ]
  },
  {
   "cell_type": "code",
   "execution_count": null,
   "id": "f0b897f9",
   "metadata": {},
   "outputs": [],
   "source": [
    "tn2021 = pd.read_csv('tn2021.csv')\n",
    "tn2020 = pd.read_csv('tn2020.csv')"
   ]
  },
  {
   "cell_type": "code",
   "execution_count": null,
   "id": "daca6eae",
   "metadata": {},
   "outputs": [],
   "source": [
    "tn20_21 = pd.concat([tn2020, tn2021], ignore_index=True)\n",
    "tn20_21"
   ]
  },
  {
   "cell_type": "code",
   "execution_count": null,
   "id": "dd2c536c",
   "metadata": {},
   "outputs": [],
   "source": [
    "tn2019 = pd.read_csv('tn2019.csv')"
   ]
  },
  {
   "cell_type": "code",
   "execution_count": null,
   "id": "9e9ab600",
   "metadata": {},
   "outputs": [],
   "source": [
    "tn20s_19 = pd.concat([tn20_21, tn2019], ignore_index=True)\n",
    "tn20s_19"
   ]
  },
  {
   "cell_type": "code",
   "execution_count": null,
   "id": "04f5ac4d",
   "metadata": {},
   "outputs": [],
   "source": [
    "tn2018 = pd.read_csv('tn2018.csv')\n",
    "tn2018['INC_NO_x'] = tn2018['INC_NO']\n",
    "tn2018 = tn2018[['incident_date', 'STATE_x', 'FDID_x', 'INC_NO_x', 'CAUSE_CODE', 'NUM_MILE', 'STREET_PRE','STREETNAME', 'STREETTYPE', 'STREETSUF', 'APT_NO','CITY', 'STATE_ID', 'ZIP5']]\n",
    "tn2018 = tn2018.loc[tn2018['STATE_x'] == 'TN']\n",
    "tn2018.to_csv('tn2018.csv')"
   ]
  },
  {
   "cell_type": "code",
   "execution_count": null,
   "id": "4b55cf06",
   "metadata": {},
   "outputs": [],
   "source": [
    "tn20s_18 = pd.concat([tn20s_19, tn2018], ignore_index=True)\n",
    "tn20s_18"
   ]
  },
  {
   "cell_type": "code",
   "execution_count": null,
   "id": "ba2e1862",
   "metadata": {},
   "outputs": [],
   "source": [
    "tn2017 = pd.read_csv('tn2017.csv')\n",
    "tn2017['INC_NO_x'] = tn2017['INC_NO']\n",
    "tn2017 = tn2017[['incident_date', 'FDID_x', 'INC_NO_x', 'CAUSE_CODE', 'NUM_MILE', 'STREET_PRE','STREETNAME', 'STREETTYPE', 'STREETSUF', 'APT_NO','CITY', 'STATE_ID', 'ZIP5']]\n",
    "tn2017"
   ]
  },
  {
   "cell_type": "code",
   "execution_count": null,
   "id": "7f9e6922",
   "metadata": {},
   "outputs": [],
   "source": [
    "tnfires = pd.concat([tn20s_18, tn2017], ignore_index=True)\n",
    "tnfires.reset_index(drop = True)"
   ]
  },
  {
   "cell_type": "code",
   "execution_count": null,
   "id": "6337eae8",
   "metadata": {},
   "outputs": [],
   "source": [
    "tnfires.INC_NO_x.nunique()"
   ]
  },
  {
   "cell_type": "code",
   "execution_count": null,
   "id": "9b93e2a5",
   "metadata": {},
   "outputs": [],
   "source": [
    "tnfires['incident_date'] = pd.to_datetime(tnfires['incident_date'])\n",
    "tnfires"
   ]
  },
  {
   "cell_type": "code",
   "execution_count": null,
   "id": "3486723c",
   "metadata": {},
   "outputs": [],
   "source": [
    "def season(month):\n",
    "    if month in [3, 4, 5]:\n",
    "        return 'Spring'\n",
    "    elif month in [6, 7, 8]:\n",
    "        return 'Summer'\n",
    "    elif month in [9, 10, 11]:\n",
    "        return 'Fall'\n",
    "    else:\n",
    "        return 'Winter'\n",
    "    \n",
    "tnfires['Season'] = tnfires['incident_date'].dt.month.apply(season)\n",
    "tnfires"
   ]
  },
  {
   "cell_type": "code",
   "execution_count": null,
   "id": "afd866fb",
   "metadata": {},
   "outputs": [],
   "source": [
    "tnfires['NUM_MILE'] = tnfires['NUM_MILE'].astype(str)\n",
    "tnfires['APT_NO'] = tnfires['APT_NO'].astype(str)"
   ]
  },
  {
   "cell_type": "code",
   "execution_count": null,
   "id": "b043d323",
   "metadata": {},
   "outputs": [],
   "source": [
    "tnfires['Address'] = (\n",
    "    tnfires['NUM_MILE'].fillna(' ') + (' ') +\n",
    "    tnfires['STREET_PRE'].fillna(' ') + (' ') +\n",
    "    tnfires['STREETNAME'].fillna(' ') + (' ') +\n",
    "    tnfires['STREETTYPE'].fillna(' ') + (' ') +\n",
    "    tnfires['STREETSUF'].fillna(' ')\n",
    ")\n",
    "\n",
    "tnfires['Address'] = tnfires['Address'].str.strip()\n",
    "tnfires.to_csv('tnfires.csv')"
   ]
  },
  {
   "cell_type": "code",
   "execution_count": null,
   "id": "6cfdcc14",
   "metadata": {},
   "outputs": [],
   "source": [
    "tnfires = pd.read_csv('data/tnfires.csv')"
   ]
  },
  {
   "cell_type": "markdown",
   "id": "4e118349",
   "metadata": {},
   "source": [
    "### Count of how many fires per season in Tennessee from 2017-2021"
   ]
  },
  {
   "cell_type": "code",
   "execution_count": null,
   "id": "aaa25e52",
   "metadata": {},
   "outputs": [],
   "source": [
    "tnfires['Season'].value_counts()"
   ]
  },
  {
   "cell_type": "code",
   "execution_count": null,
   "id": "88f40a63",
   "metadata": {},
   "outputs": [],
   "source": [
    "tnfires['CAUSE_CODE'].value_counts()"
   ]
  },
  {
   "cell_type": "markdown",
   "id": "6a8c46ea",
   "metadata": {},
   "source": [
    "# Zip Codes"
   ]
  },
  {
   "cell_type": "code",
   "execution_count": null,
   "id": "ea67d1e6",
   "metadata": {},
   "outputs": [],
   "source": [
    "import pandas as pd"
   ]
  },
  {
   "cell_type": "code",
   "execution_count": null,
   "id": "be4c409c",
   "metadata": {},
   "outputs": [],
   "source": [
    "tnfires.rename(columns={'ZIP5': 'zip'}, inplace=True)\n",
    "tnfires"
   ]
  },
  {
   "cell_type": "code",
   "execution_count": null,
   "id": "b3c91c72",
   "metadata": {},
   "outputs": [],
   "source": [
    "nash_zip = pd.read_csv('data/zip.csv', encoding='latin-1')\n",
    "nash_zip"
   ]
  },
  {
   "cell_type": "code",
   "execution_count": null,
   "id": "4231efe7",
   "metadata": {
    "scrolled": true
   },
   "outputs": [],
   "source": [
    "nash_zip = nash_zip[['zip', 'neighborhood']]"
   ]
  },
  {
   "cell_type": "code",
   "execution_count": null,
   "id": "6dca1d12",
   "metadata": {
    "scrolled": true
   },
   "outputs": [],
   "source": [
    "nashfires = tnfires.merge(nash_zip,how=\"inner\",on=\"zip\")\n",
    "nashfires = nashfires.drop(columns=['Unnamed: 0.1', 'Unnamed: 0'])\n",
    "nashfires"
   ]
  },
  {
   "cell_type": "code",
   "execution_count": null,
   "id": "85c3d177",
   "metadata": {},
   "outputs": [],
   "source": [
    "nashfires = pd.read_csv('data/nashfires.csv')"
   ]
  },
  {
   "cell_type": "code",
   "execution_count": null,
   "id": "58912f70",
   "metadata": {},
   "outputs": [],
   "source": [
    "nashfires.to_csv('data/nashfires.csv')"
   ]
  },
  {
   "cell_type": "code",
   "execution_count": null,
   "id": "440cb766",
   "metadata": {},
   "outputs": [],
   "source": [
    "nashfires['zip'].unique()"
   ]
  },
  {
   "cell_type": "code",
   "execution_count": null,
   "id": "902ffdc1",
   "metadata": {},
   "outputs": [],
   "source": [
    "nashfires['full_address'] = nashfires['Address'] + ', ' + nashfires['CITY'] + ', ' + nashfires['STATE_ID'].astype(str) + ', ' + nashfires['zip'].astype(str)\n",
    "nashfires"
   ]
  },
  {
   "cell_type": "markdown",
   "id": "fdbbed1f",
   "metadata": {},
   "source": [
    "# Removing Duplicated Rows"
   ]
  },
  {
   "cell_type": "code",
   "execution_count": null,
   "id": "88a7d989",
   "metadata": {},
   "outputs": [],
   "source": [
    "nashfires= nashfires.drop_duplicates()\n",
    "nashfires"
   ]
  },
  {
   "cell_type": "code",
   "execution_count": null,
   "id": "77dc82ba",
   "metadata": {},
   "outputs": [],
   "source": [
    "tnfires['full_address'] = tnfires['Address'] + ', ' + tnfires['CITY'] + ', ' + tnfires['STATE_ID'].astype(str) + ', ' + tnfires['ZIP5'].astype(str)\n",
    "tnfires"
   ]
  },
  {
   "cell_type": "code",
   "execution_count": null,
   "id": "772db6d8",
   "metadata": {},
   "outputs": [],
   "source": [
    "tnfires = tnfires.drop(columns=['Unnamed: 0.1', 'Unnamed: 0'])\n",
    "tnfires"
   ]
  },
  {
   "cell_type": "code",
   "execution_count": null,
   "id": "7c69937c",
   "metadata": {},
   "outputs": [],
   "source": [
    "tnfires= tnfires.drop_duplicates()\n",
    "tnfires"
   ]
  },
  {
   "cell_type": "code",
   "execution_count": 7,
   "id": "a0b1c1ec",
   "metadata": {},
   "outputs": [],
   "source": [
    "tnfires.to_csv('data/tnfires.csv')"
   ]
  },
  {
   "cell_type": "code",
   "execution_count": null,
   "id": "2684d6fa",
   "metadata": {},
   "outputs": [],
   "source": [
    "nashfires = pd.read_csv('data/nashfires.csv')\n",
    "nashfires = nashfires.loc[nashfires['CITY'] == 'Nashville']\n",
    "nashfires"
   ]
  },
  {
   "cell_type": "code",
   "execution_count": null,
   "id": "67094838",
   "metadata": {},
   "outputs": [],
   "source": [
    "nashfires = nashfires.drop(columns=['Unnamed: 0'])\n",
    "nashfires"
   ]
  },
  {
   "cell_type": "code",
   "execution_count": null,
   "id": "e23db0cf",
   "metadata": {},
   "outputs": [],
   "source": [
    "nashfires = nashfires.drop_duplicates(subset=['Address', 'incident_date'])\n",
    "nashfires = nashfires.reset_index(drop = True)\n",
    "nashfires"
   ]
  },
  {
   "cell_type": "code",
   "execution_count": null,
   "id": "aee0f100",
   "metadata": {},
   "outputs": [],
   "source": [
    "tnfires = pd.read_csv('data/tnfires.csv')\n",
    "tnfires = tnfires.loc[tnfires['STATE_ID'] == 'TN']\n",
    "tnfires"
   ]
  },
  {
   "cell_type": "code",
   "execution_count": 5,
   "id": "b7e2b9b6",
   "metadata": {
    "scrolled": true
   },
   "outputs": [
    {
     "data": {
      "text/html": [
       "<div>\n",
       "<style scoped>\n",
       "    .dataframe tbody tr th:only-of-type {\n",
       "        vertical-align: middle;\n",
       "    }\n",
       "\n",
       "    .dataframe tbody tr th {\n",
       "        vertical-align: top;\n",
       "    }\n",
       "\n",
       "    .dataframe thead th {\n",
       "        text-align: right;\n",
       "    }\n",
       "</style>\n",
       "<table border=\"1\" class=\"dataframe\">\n",
       "  <thead>\n",
       "    <tr style=\"text-align: right;\">\n",
       "      <th></th>\n",
       "      <th>Unnamed: 0</th>\n",
       "      <th>INCIDENT_KEY</th>\n",
       "      <th>incident_date</th>\n",
       "      <th>STATE_x</th>\n",
       "      <th>FDID_x</th>\n",
       "      <th>INC_NO_x</th>\n",
       "      <th>CAUSE_CODE</th>\n",
       "      <th>NUM_MILE</th>\n",
       "      <th>STREET_PRE</th>\n",
       "      <th>STREETNAME</th>\n",
       "      <th>STREETTYPE</th>\n",
       "      <th>STREETSUF</th>\n",
       "      <th>APT_NO</th>\n",
       "      <th>CITY</th>\n",
       "      <th>STATE_ID</th>\n",
       "      <th>ZIP5</th>\n",
       "      <th>Season</th>\n",
       "      <th>Address</th>\n",
       "      <th>full_address</th>\n",
       "    </tr>\n",
       "  </thead>\n",
       "  <tbody>\n",
       "    <tr>\n",
       "      <th>0</th>\n",
       "      <td>0</td>\n",
       "      <td>TN_01113_01102020_0122481_0</td>\n",
       "      <td>2020-01-10</td>\n",
       "      <td>TN</td>\n",
       "      <td>1113</td>\n",
       "      <td>0122481</td>\n",
       "      <td>Cooking</td>\n",
       "      <td>630</td>\n",
       "      <td>NaN</td>\n",
       "      <td>Hill</td>\n",
       "      <td>Ct</td>\n",
       "      <td>NaN</td>\n",
       "      <td>NaN</td>\n",
       "      <td>Clinton</td>\n",
       "      <td>TN</td>\n",
       "      <td>37716</td>\n",
       "      <td>Winter</td>\n",
       "      <td>630   Hill Ct</td>\n",
       "      <td>630   Hill Ct, Clinton, TN, 37716</td>\n",
       "    </tr>\n",
       "    <tr>\n",
       "      <th>1</th>\n",
       "      <td>1</td>\n",
       "      <td>TN_01113_01132020_0122592_0</td>\n",
       "      <td>2020-11-03</td>\n",
       "      <td>TN</td>\n",
       "      <td>1113</td>\n",
       "      <td>0122592</td>\n",
       "      <td>Heating</td>\n",
       "      <td>1000</td>\n",
       "      <td>NaN</td>\n",
       "      <td>Jd Yarnell Industrial Parkway</td>\n",
       "      <td>NaN</td>\n",
       "      <td>NaN</td>\n",
       "      <td>NaN</td>\n",
       "      <td>Clinton</td>\n",
       "      <td>TN</td>\n",
       "      <td>37716</td>\n",
       "      <td>Fall</td>\n",
       "      <td>1000   Jd Yarnell Industrial Parkway</td>\n",
       "      <td>1000   Jd Yarnell Industrial Parkway, Clinton,...</td>\n",
       "    </tr>\n",
       "    <tr>\n",
       "      <th>2</th>\n",
       "      <td>2</td>\n",
       "      <td>TN_01113_02042020_0123662_0</td>\n",
       "      <td>2020-02-04</td>\n",
       "      <td>TN</td>\n",
       "      <td>1113</td>\n",
       "      <td>0123662</td>\n",
       "      <td>Other Unintentional</td>\n",
       "      <td>516</td>\n",
       "      <td>NaN</td>\n",
       "      <td>Scenic Drive</td>\n",
       "      <td>NaN</td>\n",
       "      <td>NaN</td>\n",
       "      <td>NaN</td>\n",
       "      <td>Clinton</td>\n",
       "      <td>TN</td>\n",
       "      <td>37716</td>\n",
       "      <td>Winter</td>\n",
       "      <td>516   Scenic Drive</td>\n",
       "      <td>516   Scenic Drive, Clinton, TN, 37716</td>\n",
       "    </tr>\n",
       "    <tr>\n",
       "      <th>3</th>\n",
       "      <td>3</td>\n",
       "      <td>TN_01113_02122020_0123977_0</td>\n",
       "      <td>2020-02-12</td>\n",
       "      <td>TN</td>\n",
       "      <td>1113</td>\n",
       "      <td>0123977</td>\n",
       "      <td>Other Heat</td>\n",
       "      <td>1000</td>\n",
       "      <td>NaN</td>\n",
       "      <td>Jd Yarnell Industrial Parkway</td>\n",
       "      <td>NaN</td>\n",
       "      <td>NaN</td>\n",
       "      <td>NaN</td>\n",
       "      <td>Clinton</td>\n",
       "      <td>TN</td>\n",
       "      <td>37716</td>\n",
       "      <td>Winter</td>\n",
       "      <td>1000   Jd Yarnell Industrial Parkway</td>\n",
       "      <td>1000   Jd Yarnell Industrial Parkway, Clinton,...</td>\n",
       "    </tr>\n",
       "    <tr>\n",
       "      <th>4</th>\n",
       "      <td>4</td>\n",
       "      <td>TN_01113_04222020_0126432_0</td>\n",
       "      <td>2020-04-22</td>\n",
       "      <td>TN</td>\n",
       "      <td>1113</td>\n",
       "      <td>0126432</td>\n",
       "      <td>Equiptment Misoperation, Failure</td>\n",
       "      <td>1000</td>\n",
       "      <td>NaN</td>\n",
       "      <td>Jd Yarnell Industrial Parkway</td>\n",
       "      <td>NaN</td>\n",
       "      <td>NaN</td>\n",
       "      <td>NaN</td>\n",
       "      <td>Clinton</td>\n",
       "      <td>TN</td>\n",
       "      <td>37716</td>\n",
       "      <td>Spring</td>\n",
       "      <td>1000   Jd Yarnell Industrial Parkway</td>\n",
       "      <td>1000   Jd Yarnell Industrial Parkway, Clinton,...</td>\n",
       "    </tr>\n",
       "    <tr>\n",
       "      <th>...</th>\n",
       "      <td>...</td>\n",
       "      <td>...</td>\n",
       "      <td>...</td>\n",
       "      <td>...</td>\n",
       "      <td>...</td>\n",
       "      <td>...</td>\n",
       "      <td>...</td>\n",
       "      <td>...</td>\n",
       "      <td>...</td>\n",
       "      <td>...</td>\n",
       "      <td>...</td>\n",
       "      <td>...</td>\n",
       "      <td>...</td>\n",
       "      <td>...</td>\n",
       "      <td>...</td>\n",
       "      <td>...</td>\n",
       "      <td>...</td>\n",
       "      <td>...</td>\n",
       "      <td>...</td>\n",
       "    </tr>\n",
       "    <tr>\n",
       "      <th>129414</th>\n",
       "      <td>2003970</td>\n",
       "      <td>NaN</td>\n",
       "      <td>2017-02-06</td>\n",
       "      <td>NaN</td>\n",
       "      <td>5818</td>\n",
       "      <td>780</td>\n",
       "      <td>Other Unintentional</td>\n",
       "      <td>8</td>\n",
       "      <td>NaN</td>\n",
       "      <td>I 26</td>\n",
       "      <td>NaN</td>\n",
       "      <td>NaN</td>\n",
       "      <td>NaN</td>\n",
       "      <td>Kingsport</td>\n",
       "      <td>TN</td>\n",
       "      <td>37660</td>\n",
       "      <td>Winter</td>\n",
       "      <td>8   I 26</td>\n",
       "      <td>8   I 26, Kingsport, TN, 37660</td>\n",
       "    </tr>\n",
       "    <tr>\n",
       "      <th>129415</th>\n",
       "      <td>2003971</td>\n",
       "      <td>NaN</td>\n",
       "      <td>2017-10-14</td>\n",
       "      <td>NaN</td>\n",
       "      <td>5818</td>\n",
       "      <td>780</td>\n",
       "      <td>Other Unintentional</td>\n",
       "      <td>114</td>\n",
       "      <td>NaN</td>\n",
       "      <td>Walker Lake</td>\n",
       "      <td>Rd</td>\n",
       "      <td>NaN</td>\n",
       "      <td>NaN</td>\n",
       "      <td>Atoka</td>\n",
       "      <td>TN</td>\n",
       "      <td>38004</td>\n",
       "      <td>Fall</td>\n",
       "      <td>114   Walker Lake Rd</td>\n",
       "      <td>114   Walker Lake Rd, Atoka, TN, 38004</td>\n",
       "    </tr>\n",
       "    <tr>\n",
       "      <th>129416</th>\n",
       "      <td>2003972</td>\n",
       "      <td>NaN</td>\n",
       "      <td>2017-05-05</td>\n",
       "      <td>NaN</td>\n",
       "      <td>5818</td>\n",
       "      <td>780</td>\n",
       "      <td>Other Unintentional</td>\n",
       "      <td>1231</td>\n",
       "      <td>NaN</td>\n",
       "      <td>Crestview</td>\n",
       "      <td>St</td>\n",
       "      <td>NaN</td>\n",
       "      <td>NaN</td>\n",
       "      <td>Covington</td>\n",
       "      <td>TN</td>\n",
       "      <td>38019</td>\n",
       "      <td>Spring</td>\n",
       "      <td>1231   Crestview St</td>\n",
       "      <td>1231   Crestview St, Covington, TN, 38019</td>\n",
       "    </tr>\n",
       "    <tr>\n",
       "      <th>129417</th>\n",
       "      <td>2003973</td>\n",
       "      <td>NaN</td>\n",
       "      <td>2017-03-15</td>\n",
       "      <td>NaN</td>\n",
       "      <td>5818</td>\n",
       "      <td>780</td>\n",
       "      <td>Other Unintentional</td>\n",
       "      <td>1589</td>\n",
       "      <td>NaN</td>\n",
       "      <td>Yeager Rd Northside Ba</td>\n",
       "      <td>NaN</td>\n",
       "      <td>NaN</td>\n",
       "      <td>NaN</td>\n",
       "      <td>Mcminnville</td>\n",
       "      <td>TN</td>\n",
       "      <td>37110</td>\n",
       "      <td>Spring</td>\n",
       "      <td>1589   Yeager Rd Northside Ba</td>\n",
       "      <td>1589   Yeager Rd Northside Ba, Mcminnville, TN...</td>\n",
       "    </tr>\n",
       "    <tr>\n",
       "      <th>129418</th>\n",
       "      <td>2003974</td>\n",
       "      <td>NaN</td>\n",
       "      <td>2017-01-31</td>\n",
       "      <td>NaN</td>\n",
       "      <td>5818</td>\n",
       "      <td>780</td>\n",
       "      <td>Other Unintentional</td>\n",
       "      <td>279</td>\n",
       "      <td>NaN</td>\n",
       "      <td>Coldwater</td>\n",
       "      <td>Dr</td>\n",
       "      <td>NaN</td>\n",
       "      <td>NaN</td>\n",
       "      <td>Johnson City</td>\n",
       "      <td>TN</td>\n",
       "      <td>37604</td>\n",
       "      <td>Winter</td>\n",
       "      <td>279   Coldwater Dr</td>\n",
       "      <td>279   Coldwater Dr, Johnson City, TN, 37604</td>\n",
       "    </tr>\n",
       "  </tbody>\n",
       "</table>\n",
       "<p>129419 rows × 19 columns</p>\n",
       "</div>"
      ],
      "text/plain": [
       "        Unnamed: 0                 INCIDENT_KEY incident_date STATE_x  FDID_x  \\\n",
       "0                0  TN_01113_01102020_0122481_0    2020-01-10      TN    1113   \n",
       "1                1  TN_01113_01132020_0122592_0    2020-11-03      TN    1113   \n",
       "2                2  TN_01113_02042020_0123662_0    2020-02-04      TN    1113   \n",
       "3                3  TN_01113_02122020_0123977_0    2020-02-12      TN    1113   \n",
       "4                4  TN_01113_04222020_0126432_0    2020-04-22      TN    1113   \n",
       "...            ...                          ...           ...     ...     ...   \n",
       "129414     2003970                          NaN    2017-02-06     NaN    5818   \n",
       "129415     2003971                          NaN    2017-10-14     NaN    5818   \n",
       "129416     2003972                          NaN    2017-05-05     NaN    5818   \n",
       "129417     2003973                          NaN    2017-03-15     NaN    5818   \n",
       "129418     2003974                          NaN    2017-01-31     NaN    5818   \n",
       "\n",
       "       INC_NO_x                        CAUSE_CODE NUM_MILE STREET_PRE  \\\n",
       "0       0122481                           Cooking      630        NaN   \n",
       "1       0122592                           Heating     1000        NaN   \n",
       "2       0123662               Other Unintentional      516        NaN   \n",
       "3       0123977                        Other Heat     1000        NaN   \n",
       "4       0126432  Equiptment Misoperation, Failure     1000        NaN   \n",
       "...         ...                               ...      ...        ...   \n",
       "129414      780               Other Unintentional        8        NaN   \n",
       "129415      780               Other Unintentional      114        NaN   \n",
       "129416      780               Other Unintentional     1231        NaN   \n",
       "129417      780               Other Unintentional     1589        NaN   \n",
       "129418      780               Other Unintentional      279        NaN   \n",
       "\n",
       "                           STREETNAME STREETTYPE STREETSUF APT_NO  \\\n",
       "0                                Hill         Ct       NaN    NaN   \n",
       "1       Jd Yarnell Industrial Parkway        NaN       NaN    NaN   \n",
       "2                        Scenic Drive        NaN       NaN    NaN   \n",
       "3       Jd Yarnell Industrial Parkway        NaN       NaN    NaN   \n",
       "4       Jd Yarnell Industrial Parkway        NaN       NaN    NaN   \n",
       "...                               ...        ...       ...    ...   \n",
       "129414                           I 26        NaN       NaN    NaN   \n",
       "129415                    Walker Lake         Rd       NaN    NaN   \n",
       "129416                      Crestview         St       NaN    NaN   \n",
       "129417         Yeager Rd Northside Ba        NaN       NaN    NaN   \n",
       "129418                      Coldwater         Dr       NaN    NaN   \n",
       "\n",
       "                CITY STATE_ID   ZIP5  Season  \\\n",
       "0            Clinton       TN  37716  Winter   \n",
       "1            Clinton       TN  37716    Fall   \n",
       "2            Clinton       TN  37716  Winter   \n",
       "3            Clinton       TN  37716  Winter   \n",
       "4            Clinton       TN  37716  Spring   \n",
       "...              ...      ...    ...     ...   \n",
       "129414     Kingsport       TN  37660  Winter   \n",
       "129415         Atoka       TN  38004    Fall   \n",
       "129416     Covington       TN  38019  Spring   \n",
       "129417   Mcminnville       TN  37110  Spring   \n",
       "129418  Johnson City       TN  37604  Winter   \n",
       "\n",
       "                                     Address  \\\n",
       "0                              630   Hill Ct   \n",
       "1       1000   Jd Yarnell Industrial Parkway   \n",
       "2                         516   Scenic Drive   \n",
       "3       1000   Jd Yarnell Industrial Parkway   \n",
       "4       1000   Jd Yarnell Industrial Parkway   \n",
       "...                                      ...   \n",
       "129414                              8   I 26   \n",
       "129415                  114   Walker Lake Rd   \n",
       "129416                   1231   Crestview St   \n",
       "129417         1589   Yeager Rd Northside Ba   \n",
       "129418                    279   Coldwater Dr   \n",
       "\n",
       "                                             full_address  \n",
       "0                       630   Hill Ct, Clinton, TN, 37716  \n",
       "1       1000   Jd Yarnell Industrial Parkway, Clinton,...  \n",
       "2                  516   Scenic Drive, Clinton, TN, 37716  \n",
       "3       1000   Jd Yarnell Industrial Parkway, Clinton,...  \n",
       "4       1000   Jd Yarnell Industrial Parkway, Clinton,...  \n",
       "...                                                   ...  \n",
       "129414                     8   I 26, Kingsport, TN, 37660  \n",
       "129415             114   Walker Lake Rd, Atoka, TN, 38004  \n",
       "129416          1231   Crestview St, Covington, TN, 38019  \n",
       "129417  1589   Yeager Rd Northside Ba, Mcminnville, TN...  \n",
       "129418        279   Coldwater Dr, Johnson City, TN, 37604  \n",
       "\n",
       "[129419 rows x 19 columns]"
      ]
     },
     "execution_count": 5,
     "metadata": {},
     "output_type": "execute_result"
    }
   ],
   "source": [
    "tnfires = tnfires.drop_duplicates(subset=['Address', 'incident_date'])\n",
    "tnfires"
   ]
  },
  {
   "cell_type": "code",
   "execution_count": null,
   "id": "e7348fa8",
   "metadata": {},
   "outputs": [],
   "source": [
    "tnfires['incident_date'] = pd.to_datetime(tnfires['incident_date'])\n",
    "tnfires.info()"
   ]
  },
  {
   "cell_type": "code",
   "execution_count": null,
   "id": "afae4ad4",
   "metadata": {},
   "outputs": [],
   "source": [
    "start_year = tnfires['incident_date'].dt.year.min()\n",
    "end_year = tnfires['incident_date'].dt.year.max()\n",
    "print(\"Start Year:\", start_year)\n",
    "print(\"End Year:\", end_year)"
   ]
  },
  {
   "cell_type": "code",
   "execution_count": 6,
   "id": "7c338c7a",
   "metadata": {
    "collapsed": true
   },
   "outputs": [
    {
     "data": {
      "text/html": [
       "<div>\n",
       "<style scoped>\n",
       "    .dataframe tbody tr th:only-of-type {\n",
       "        vertical-align: middle;\n",
       "    }\n",
       "\n",
       "    .dataframe tbody tr th {\n",
       "        vertical-align: top;\n",
       "    }\n",
       "\n",
       "    .dataframe thead th {\n",
       "        text-align: right;\n",
       "    }\n",
       "</style>\n",
       "<table border=\"1\" class=\"dataframe\">\n",
       "  <thead>\n",
       "    <tr style=\"text-align: right;\">\n",
       "      <th></th>\n",
       "      <th>INCIDENT_KEY</th>\n",
       "      <th>incident_date</th>\n",
       "      <th>STATE_x</th>\n",
       "      <th>FDID_x</th>\n",
       "      <th>INC_NO_x</th>\n",
       "      <th>CAUSE_CODE</th>\n",
       "      <th>NUM_MILE</th>\n",
       "      <th>STREET_PRE</th>\n",
       "      <th>STREETNAME</th>\n",
       "      <th>STREETTYPE</th>\n",
       "      <th>STREETSUF</th>\n",
       "      <th>APT_NO</th>\n",
       "      <th>CITY</th>\n",
       "      <th>STATE_ID</th>\n",
       "      <th>ZIP5</th>\n",
       "      <th>Season</th>\n",
       "      <th>Address</th>\n",
       "      <th>full_address</th>\n",
       "    </tr>\n",
       "  </thead>\n",
       "  <tbody>\n",
       "    <tr>\n",
       "      <th>0</th>\n",
       "      <td>TN_01113_01102020_0122481_0</td>\n",
       "      <td>2020-01-10</td>\n",
       "      <td>TN</td>\n",
       "      <td>1113</td>\n",
       "      <td>0122481</td>\n",
       "      <td>Cooking</td>\n",
       "      <td>630</td>\n",
       "      <td>NaN</td>\n",
       "      <td>Hill</td>\n",
       "      <td>Ct</td>\n",
       "      <td>NaN</td>\n",
       "      <td>NaN</td>\n",
       "      <td>Clinton</td>\n",
       "      <td>TN</td>\n",
       "      <td>37716</td>\n",
       "      <td>Winter</td>\n",
       "      <td>630   Hill Ct</td>\n",
       "      <td>630   Hill Ct, Clinton, TN, 37716</td>\n",
       "    </tr>\n",
       "    <tr>\n",
       "      <th>1</th>\n",
       "      <td>TN_01113_01132020_0122592_0</td>\n",
       "      <td>2020-11-03</td>\n",
       "      <td>TN</td>\n",
       "      <td>1113</td>\n",
       "      <td>0122592</td>\n",
       "      <td>Heating</td>\n",
       "      <td>1000</td>\n",
       "      <td>NaN</td>\n",
       "      <td>Jd Yarnell Industrial Parkway</td>\n",
       "      <td>NaN</td>\n",
       "      <td>NaN</td>\n",
       "      <td>NaN</td>\n",
       "      <td>Clinton</td>\n",
       "      <td>TN</td>\n",
       "      <td>37716</td>\n",
       "      <td>Fall</td>\n",
       "      <td>1000   Jd Yarnell Industrial Parkway</td>\n",
       "      <td>1000   Jd Yarnell Industrial Parkway, Clinton,...</td>\n",
       "    </tr>\n",
       "    <tr>\n",
       "      <th>2</th>\n",
       "      <td>TN_01113_02042020_0123662_0</td>\n",
       "      <td>2020-02-04</td>\n",
       "      <td>TN</td>\n",
       "      <td>1113</td>\n",
       "      <td>0123662</td>\n",
       "      <td>Other Unintentional</td>\n",
       "      <td>516</td>\n",
       "      <td>NaN</td>\n",
       "      <td>Scenic Drive</td>\n",
       "      <td>NaN</td>\n",
       "      <td>NaN</td>\n",
       "      <td>NaN</td>\n",
       "      <td>Clinton</td>\n",
       "      <td>TN</td>\n",
       "      <td>37716</td>\n",
       "      <td>Winter</td>\n",
       "      <td>516   Scenic Drive</td>\n",
       "      <td>516   Scenic Drive, Clinton, TN, 37716</td>\n",
       "    </tr>\n",
       "    <tr>\n",
       "      <th>3</th>\n",
       "      <td>TN_01113_02122020_0123977_0</td>\n",
       "      <td>2020-02-12</td>\n",
       "      <td>TN</td>\n",
       "      <td>1113</td>\n",
       "      <td>0123977</td>\n",
       "      <td>Other Heat</td>\n",
       "      <td>1000</td>\n",
       "      <td>NaN</td>\n",
       "      <td>Jd Yarnell Industrial Parkway</td>\n",
       "      <td>NaN</td>\n",
       "      <td>NaN</td>\n",
       "      <td>NaN</td>\n",
       "      <td>Clinton</td>\n",
       "      <td>TN</td>\n",
       "      <td>37716</td>\n",
       "      <td>Winter</td>\n",
       "      <td>1000   Jd Yarnell Industrial Parkway</td>\n",
       "      <td>1000   Jd Yarnell Industrial Parkway, Clinton,...</td>\n",
       "    </tr>\n",
       "    <tr>\n",
       "      <th>4</th>\n",
       "      <td>TN_01113_04222020_0126432_0</td>\n",
       "      <td>2020-04-22</td>\n",
       "      <td>TN</td>\n",
       "      <td>1113</td>\n",
       "      <td>0126432</td>\n",
       "      <td>Equiptment Misoperation, Failure</td>\n",
       "      <td>1000</td>\n",
       "      <td>NaN</td>\n",
       "      <td>Jd Yarnell Industrial Parkway</td>\n",
       "      <td>NaN</td>\n",
       "      <td>NaN</td>\n",
       "      <td>NaN</td>\n",
       "      <td>Clinton</td>\n",
       "      <td>TN</td>\n",
       "      <td>37716</td>\n",
       "      <td>Spring</td>\n",
       "      <td>1000   Jd Yarnell Industrial Parkway</td>\n",
       "      <td>1000   Jd Yarnell Industrial Parkway, Clinton,...</td>\n",
       "    </tr>\n",
       "    <tr>\n",
       "      <th>...</th>\n",
       "      <td>...</td>\n",
       "      <td>...</td>\n",
       "      <td>...</td>\n",
       "      <td>...</td>\n",
       "      <td>...</td>\n",
       "      <td>...</td>\n",
       "      <td>...</td>\n",
       "      <td>...</td>\n",
       "      <td>...</td>\n",
       "      <td>...</td>\n",
       "      <td>...</td>\n",
       "      <td>...</td>\n",
       "      <td>...</td>\n",
       "      <td>...</td>\n",
       "      <td>...</td>\n",
       "      <td>...</td>\n",
       "      <td>...</td>\n",
       "      <td>...</td>\n",
       "    </tr>\n",
       "    <tr>\n",
       "      <th>129414</th>\n",
       "      <td>NaN</td>\n",
       "      <td>2017-02-06</td>\n",
       "      <td>NaN</td>\n",
       "      <td>5818</td>\n",
       "      <td>780</td>\n",
       "      <td>Other Unintentional</td>\n",
       "      <td>8</td>\n",
       "      <td>NaN</td>\n",
       "      <td>I 26</td>\n",
       "      <td>NaN</td>\n",
       "      <td>NaN</td>\n",
       "      <td>NaN</td>\n",
       "      <td>Kingsport</td>\n",
       "      <td>TN</td>\n",
       "      <td>37660</td>\n",
       "      <td>Winter</td>\n",
       "      <td>8   I 26</td>\n",
       "      <td>8   I 26, Kingsport, TN, 37660</td>\n",
       "    </tr>\n",
       "    <tr>\n",
       "      <th>129415</th>\n",
       "      <td>NaN</td>\n",
       "      <td>2017-10-14</td>\n",
       "      <td>NaN</td>\n",
       "      <td>5818</td>\n",
       "      <td>780</td>\n",
       "      <td>Other Unintentional</td>\n",
       "      <td>114</td>\n",
       "      <td>NaN</td>\n",
       "      <td>Walker Lake</td>\n",
       "      <td>Rd</td>\n",
       "      <td>NaN</td>\n",
       "      <td>NaN</td>\n",
       "      <td>Atoka</td>\n",
       "      <td>TN</td>\n",
       "      <td>38004</td>\n",
       "      <td>Fall</td>\n",
       "      <td>114   Walker Lake Rd</td>\n",
       "      <td>114   Walker Lake Rd, Atoka, TN, 38004</td>\n",
       "    </tr>\n",
       "    <tr>\n",
       "      <th>129416</th>\n",
       "      <td>NaN</td>\n",
       "      <td>2017-05-05</td>\n",
       "      <td>NaN</td>\n",
       "      <td>5818</td>\n",
       "      <td>780</td>\n",
       "      <td>Other Unintentional</td>\n",
       "      <td>1231</td>\n",
       "      <td>NaN</td>\n",
       "      <td>Crestview</td>\n",
       "      <td>St</td>\n",
       "      <td>NaN</td>\n",
       "      <td>NaN</td>\n",
       "      <td>Covington</td>\n",
       "      <td>TN</td>\n",
       "      <td>38019</td>\n",
       "      <td>Spring</td>\n",
       "      <td>1231   Crestview St</td>\n",
       "      <td>1231   Crestview St, Covington, TN, 38019</td>\n",
       "    </tr>\n",
       "    <tr>\n",
       "      <th>129417</th>\n",
       "      <td>NaN</td>\n",
       "      <td>2017-03-15</td>\n",
       "      <td>NaN</td>\n",
       "      <td>5818</td>\n",
       "      <td>780</td>\n",
       "      <td>Other Unintentional</td>\n",
       "      <td>1589</td>\n",
       "      <td>NaN</td>\n",
       "      <td>Yeager Rd Northside Ba</td>\n",
       "      <td>NaN</td>\n",
       "      <td>NaN</td>\n",
       "      <td>NaN</td>\n",
       "      <td>Mcminnville</td>\n",
       "      <td>TN</td>\n",
       "      <td>37110</td>\n",
       "      <td>Spring</td>\n",
       "      <td>1589   Yeager Rd Northside Ba</td>\n",
       "      <td>1589   Yeager Rd Northside Ba, Mcminnville, TN...</td>\n",
       "    </tr>\n",
       "    <tr>\n",
       "      <th>129418</th>\n",
       "      <td>NaN</td>\n",
       "      <td>2017-01-31</td>\n",
       "      <td>NaN</td>\n",
       "      <td>5818</td>\n",
       "      <td>780</td>\n",
       "      <td>Other Unintentional</td>\n",
       "      <td>279</td>\n",
       "      <td>NaN</td>\n",
       "      <td>Coldwater</td>\n",
       "      <td>Dr</td>\n",
       "      <td>NaN</td>\n",
       "      <td>NaN</td>\n",
       "      <td>Johnson City</td>\n",
       "      <td>TN</td>\n",
       "      <td>37604</td>\n",
       "      <td>Winter</td>\n",
       "      <td>279   Coldwater Dr</td>\n",
       "      <td>279   Coldwater Dr, Johnson City, TN, 37604</td>\n",
       "    </tr>\n",
       "  </tbody>\n",
       "</table>\n",
       "<p>129419 rows × 18 columns</p>\n",
       "</div>"
      ],
      "text/plain": [
       "                       INCIDENT_KEY incident_date STATE_x  FDID_x INC_NO_x  \\\n",
       "0       TN_01113_01102020_0122481_0    2020-01-10      TN    1113  0122481   \n",
       "1       TN_01113_01132020_0122592_0    2020-11-03      TN    1113  0122592   \n",
       "2       TN_01113_02042020_0123662_0    2020-02-04      TN    1113  0123662   \n",
       "3       TN_01113_02122020_0123977_0    2020-02-12      TN    1113  0123977   \n",
       "4       TN_01113_04222020_0126432_0    2020-04-22      TN    1113  0126432   \n",
       "...                             ...           ...     ...     ...      ...   \n",
       "129414                          NaN    2017-02-06     NaN    5818      780   \n",
       "129415                          NaN    2017-10-14     NaN    5818      780   \n",
       "129416                          NaN    2017-05-05     NaN    5818      780   \n",
       "129417                          NaN    2017-03-15     NaN    5818      780   \n",
       "129418                          NaN    2017-01-31     NaN    5818      780   \n",
       "\n",
       "                              CAUSE_CODE NUM_MILE STREET_PRE  \\\n",
       "0                                Cooking      630        NaN   \n",
       "1                                Heating     1000        NaN   \n",
       "2                    Other Unintentional      516        NaN   \n",
       "3                             Other Heat     1000        NaN   \n",
       "4       Equiptment Misoperation, Failure     1000        NaN   \n",
       "...                                  ...      ...        ...   \n",
       "129414               Other Unintentional        8        NaN   \n",
       "129415               Other Unintentional      114        NaN   \n",
       "129416               Other Unintentional     1231        NaN   \n",
       "129417               Other Unintentional     1589        NaN   \n",
       "129418               Other Unintentional      279        NaN   \n",
       "\n",
       "                           STREETNAME STREETTYPE STREETSUF APT_NO  \\\n",
       "0                                Hill         Ct       NaN    NaN   \n",
       "1       Jd Yarnell Industrial Parkway        NaN       NaN    NaN   \n",
       "2                        Scenic Drive        NaN       NaN    NaN   \n",
       "3       Jd Yarnell Industrial Parkway        NaN       NaN    NaN   \n",
       "4       Jd Yarnell Industrial Parkway        NaN       NaN    NaN   \n",
       "...                               ...        ...       ...    ...   \n",
       "129414                           I 26        NaN       NaN    NaN   \n",
       "129415                    Walker Lake         Rd       NaN    NaN   \n",
       "129416                      Crestview         St       NaN    NaN   \n",
       "129417         Yeager Rd Northside Ba        NaN       NaN    NaN   \n",
       "129418                      Coldwater         Dr       NaN    NaN   \n",
       "\n",
       "                CITY STATE_ID   ZIP5  Season  \\\n",
       "0            Clinton       TN  37716  Winter   \n",
       "1            Clinton       TN  37716    Fall   \n",
       "2            Clinton       TN  37716  Winter   \n",
       "3            Clinton       TN  37716  Winter   \n",
       "4            Clinton       TN  37716  Spring   \n",
       "...              ...      ...    ...     ...   \n",
       "129414     Kingsport       TN  37660  Winter   \n",
       "129415         Atoka       TN  38004    Fall   \n",
       "129416     Covington       TN  38019  Spring   \n",
       "129417   Mcminnville       TN  37110  Spring   \n",
       "129418  Johnson City       TN  37604  Winter   \n",
       "\n",
       "                                     Address  \\\n",
       "0                              630   Hill Ct   \n",
       "1       1000   Jd Yarnell Industrial Parkway   \n",
       "2                         516   Scenic Drive   \n",
       "3       1000   Jd Yarnell Industrial Parkway   \n",
       "4       1000   Jd Yarnell Industrial Parkway   \n",
       "...                                      ...   \n",
       "129414                              8   I 26   \n",
       "129415                  114   Walker Lake Rd   \n",
       "129416                   1231   Crestview St   \n",
       "129417         1589   Yeager Rd Northside Ba   \n",
       "129418                    279   Coldwater Dr   \n",
       "\n",
       "                                             full_address  \n",
       "0                       630   Hill Ct, Clinton, TN, 37716  \n",
       "1       1000   Jd Yarnell Industrial Parkway, Clinton,...  \n",
       "2                  516   Scenic Drive, Clinton, TN, 37716  \n",
       "3       1000   Jd Yarnell Industrial Parkway, Clinton,...  \n",
       "4       1000   Jd Yarnell Industrial Parkway, Clinton,...  \n",
       "...                                                   ...  \n",
       "129414                     8   I 26, Kingsport, TN, 37660  \n",
       "129415             114   Walker Lake Rd, Atoka, TN, 38004  \n",
       "129416          1231   Crestview St, Covington, TN, 38019  \n",
       "129417  1589   Yeager Rd Northside Ba, Mcminnville, TN...  \n",
       "129418        279   Coldwater Dr, Johnson City, TN, 37604  \n",
       "\n",
       "[129419 rows x 18 columns]"
      ]
     },
     "execution_count": 6,
     "metadata": {},
     "output_type": "execute_result"
    }
   ],
   "source": [
    "tnfires = tnfires.drop(columns=['Unnamed: 0'])\n",
    "tnfires"
   ]
  },
  {
   "cell_type": "code",
   "execution_count": null,
   "id": "7dc99308",
   "metadata": {},
   "outputs": [],
   "source": [
    "tnfires.loc[tnfires['incident_date'] == '2017-10-01']"
   ]
  },
  {
   "cell_type": "markdown",
   "id": "8e4f05c4",
   "metadata": {},
   "source": [
    "# Drilling down why specific dates are so high in volume"
   ]
  },
  {
   "cell_type": "code",
   "execution_count": 1,
   "id": "06054fcb",
   "metadata": {},
   "outputs": [],
   "source": [
    "import pandas as pd"
   ]
  },
  {
   "cell_type": "code",
   "execution_count": 3,
   "id": "c22f6f87",
   "metadata": {
    "collapsed": true
   },
   "outputs": [
    {
     "name": "stderr",
     "output_type": "stream",
     "text": [
      "C:\\Users\\ajwil\\AppData\\Local\\Temp\\ipykernel_16780\\3655118373.py:1: DtypeWarning: Columns (1,3,15) have mixed types. Specify dtype option on import or set low_memory=False.\n",
      "  tnfires = pd.read_csv('data/tnfires.csv')\n"
     ]
    },
    {
     "name": "stdout",
     "output_type": "stream",
     "text": [
      "<class 'pandas.core.frame.DataFrame'>\n",
      "RangeIndex: 129419 entries, 0 to 129418\n",
      "Data columns (total 19 columns):\n",
      " #   Column         Non-Null Count   Dtype \n",
      "---  ------         --------------   ----- \n",
      " 0   Unnamed: 0     129419 non-null  int64 \n",
      " 1   INCIDENT_KEY   23966 non-null   object\n",
      " 2   incident_date  129419 non-null  object\n",
      " 3   STATE_x        90315 non-null   object\n",
      " 4   FDID_x         129419 non-null  int64 \n",
      " 5   INC_NO_x       129419 non-null  object\n",
      " 6   CAUSE_CODE     129419 non-null  object\n",
      " 7   NUM_MILE       114134 non-null  object\n",
      " 8   STREET_PRE     14005 non-null   object\n",
      " 9   STREETNAME     129223 non-null  object\n",
      " 10  STREETTYPE     100635 non-null  object\n",
      " 11  STREETSUF      6976 non-null    object\n",
      " 12  APT_NO         10982 non-null   object\n",
      " 13  CITY           129419 non-null  object\n",
      " 14  STATE_ID       129419 non-null  object\n",
      " 15  ZIP5           129419 non-null  object\n",
      " 16  Season         129419 non-null  object\n",
      " 17  Address        129227 non-null  object\n",
      " 18  full_address   129227 non-null  object\n",
      "dtypes: int64(2), object(17)\n",
      "memory usage: 18.8+ MB\n"
     ]
    }
   ],
   "source": [
    "tnfires = pd.read_csv('data/tnfires.csv')\n",
    "tnfires.info()"
   ]
  },
  {
   "cell_type": "code",
   "execution_count": null,
   "id": "c74560cc",
   "metadata": {},
   "outputs": [],
   "source": [
    "tnfires.loc[tnfires['STATE_ID'] == 'TN']"
   ]
  },
  {
   "cell_type": "code",
   "execution_count": 4,
   "id": "79a2876d",
   "metadata": {
    "collapsed": true
   },
   "outputs": [
    {
     "name": "stdout",
     "output_type": "stream",
     "text": [
      "<class 'pandas.core.frame.DataFrame'>\n",
      "RangeIndex: 6863 entries, 0 to 6862\n",
      "Data columns (total 20 columns):\n",
      " #   Column         Non-Null Count  Dtype \n",
      "---  ------         --------------  ----- \n",
      " 0   Unnamed: 0     6863 non-null   int64 \n",
      " 1   INCIDENT_KEY   2121 non-null   object\n",
      " 2   incident_date  6863 non-null   object\n",
      " 3   STATE_x        3349 non-null   object\n",
      " 4   FDID_x         6863 non-null   object\n",
      " 5   INC_NO_x       6863 non-null   int64 \n",
      " 6   CAUSE_CODE     6863 non-null   object\n",
      " 7   NUM_MILE       6100 non-null   object\n",
      " 8   STREET_PRE     310 non-null    object\n",
      " 9   STREETNAME     6863 non-null   object\n",
      " 10  STREETTYPE     6310 non-null   object\n",
      " 11  STREETSUF      1007 non-null   object\n",
      " 12  APT_NO         1440 non-null   object\n",
      " 13  CITY           6863 non-null   object\n",
      " 14  STATE_ID       6863 non-null   object\n",
      " 15  zip            6863 non-null   int64 \n",
      " 16  Season         6863 non-null   object\n",
      " 17  Address        6863 non-null   object\n",
      " 18  neighborhood   6863 non-null   object\n",
      " 19  full_address   6863 non-null   object\n",
      "dtypes: int64(3), object(17)\n",
      "memory usage: 1.0+ MB\n"
     ]
    }
   ],
   "source": [
    "nashfires = pd.read_csv('data/nashfires.csv')\n",
    "nashfires.info()"
   ]
  },
  {
   "cell_type": "code",
   "execution_count": 9,
   "id": "04ad6e68",
   "metadata": {
    "scrolled": true
   },
   "outputs": [
    {
     "data": {
      "text/plain": [
       "Knoxville       101\n",
       "Chattanooga      38\n",
       "Kingsport        32\n",
       "Murfreesboro     21\n",
       "Johnson City     16\n",
       "               ... \n",
       "Readyville        1\n",
       "Flintville        1\n",
       "Madison           1\n",
       "Cornersville      1\n",
       "Clark Range       1\n",
       "Name: CITY, Length: 121, dtype: int64"
      ]
     },
     "execution_count": 9,
     "metadata": {},
     "output_type": "execute_result"
    }
   ],
   "source": [
    "tnfires.loc[tnfires['incident_date'] == '2017-10-01']['CITY'].value_counts()"
   ]
  },
  {
   "cell_type": "code",
   "execution_count": 17,
   "id": "8c6cbe20",
   "metadata": {},
   "outputs": [
    {
     "data": {
      "text/html": [
       "<div>\n",
       "<style scoped>\n",
       "    .dataframe tbody tr th:only-of-type {\n",
       "        vertical-align: middle;\n",
       "    }\n",
       "\n",
       "    .dataframe tbody tr th {\n",
       "        vertical-align: top;\n",
       "    }\n",
       "\n",
       "    .dataframe thead th {\n",
       "        text-align: right;\n",
       "    }\n",
       "</style>\n",
       "<table border=\"1\" class=\"dataframe\">\n",
       "  <thead>\n",
       "    <tr style=\"text-align: right;\">\n",
       "      <th></th>\n",
       "      <th>INCIDENT_KEY</th>\n",
       "      <th>incident_date</th>\n",
       "      <th>STATE_x</th>\n",
       "      <th>FDID_x</th>\n",
       "      <th>INC_NO_x</th>\n",
       "      <th>CAUSE_CODE</th>\n",
       "      <th>NUM_MILE</th>\n",
       "      <th>STREET_PRE</th>\n",
       "      <th>STREETNAME</th>\n",
       "      <th>STREETTYPE</th>\n",
       "      <th>STREETSUF</th>\n",
       "      <th>APT_NO</th>\n",
       "      <th>CITY</th>\n",
       "      <th>STATE_ID</th>\n",
       "      <th>ZIP5</th>\n",
       "      <th>Season</th>\n",
       "      <th>Address</th>\n",
       "      <th>full_address</th>\n",
       "    </tr>\n",
       "  </thead>\n",
       "  <tbody>\n",
       "    <tr>\n",
       "      <th>90328</th>\n",
       "      <td>NaN</td>\n",
       "      <td>2017-10-01</td>\n",
       "      <td>NaN</td>\n",
       "      <td>11100</td>\n",
       "      <td>724</td>\n",
       "      <td>Unknown</td>\n",
       "      <td>414</td>\n",
       "      <td>W</td>\n",
       "      <td>Baldwin</td>\n",
       "      <td>St</td>\n",
       "      <td>NaN</td>\n",
       "      <td>NaN</td>\n",
       "      <td>Rockwood</td>\n",
       "      <td>TN</td>\n",
       "      <td>37854</td>\n",
       "      <td>Fall</td>\n",
       "      <td>414 W Baldwin St</td>\n",
       "      <td>414 W Baldwin St, Rockwood, TN, 37854</td>\n",
       "    </tr>\n",
       "    <tr>\n",
       "      <th>90353</th>\n",
       "      <td>NaN</td>\n",
       "      <td>2017-10-01</td>\n",
       "      <td>NaN</td>\n",
       "      <td>12150</td>\n",
       "      <td>017-001</td>\n",
       "      <td>Heating</td>\n",
       "      <td>24</td>\n",
       "      <td>NaN</td>\n",
       "      <td>I65 North 24</td>\n",
       "      <td>NaN</td>\n",
       "      <td>NaN</td>\n",
       "      <td>NaN</td>\n",
       "      <td>Cornersville</td>\n",
       "      <td>TN</td>\n",
       "      <td>37047</td>\n",
       "      <td>Fall</td>\n",
       "      <td>24   I65 North 24</td>\n",
       "      <td>24   I65 North 24, Cornersville, TN, 37047</td>\n",
       "    </tr>\n",
       "    <tr>\n",
       "      <th>90394</th>\n",
       "      <td>NaN</td>\n",
       "      <td>2017-10-01</td>\n",
       "      <td>NaN</td>\n",
       "      <td>12200</td>\n",
       "      <td>0000033</td>\n",
       "      <td>Heating</td>\n",
       "      <td>NaN</td>\n",
       "      <td>S</td>\n",
       "      <td>Northshore</td>\n",
       "      <td>Dr</td>\n",
       "      <td>NaN</td>\n",
       "      <td>NaN</td>\n",
       "      <td>Knoxville</td>\n",
       "      <td>TN</td>\n",
       "      <td>37919</td>\n",
       "      <td>Fall</td>\n",
       "      <td>nan S Northshore Dr</td>\n",
       "      <td>nan S Northshore Dr, Knoxville, TN, 37919</td>\n",
       "    </tr>\n",
       "    <tr>\n",
       "      <th>90396</th>\n",
       "      <td>NaN</td>\n",
       "      <td>2017-10-01</td>\n",
       "      <td>NaN</td>\n",
       "      <td>12200</td>\n",
       "      <td>0000033</td>\n",
       "      <td>Heating</td>\n",
       "      <td>6917</td>\n",
       "      <td>NaN</td>\n",
       "      <td>Clowers</td>\n",
       "      <td>Dr</td>\n",
       "      <td>NaN</td>\n",
       "      <td>NaN</td>\n",
       "      <td>Knoxville</td>\n",
       "      <td>TN</td>\n",
       "      <td>37924</td>\n",
       "      <td>Fall</td>\n",
       "      <td>6917   Clowers Dr</td>\n",
       "      <td>6917   Clowers Dr, Knoxville, TN, 37924</td>\n",
       "    </tr>\n",
       "    <tr>\n",
       "      <th>90460</th>\n",
       "      <td>NaN</td>\n",
       "      <td>2017-10-01</td>\n",
       "      <td>NaN</td>\n",
       "      <td>12200</td>\n",
       "      <td>0000061</td>\n",
       "      <td>Smoking</td>\n",
       "      <td>401</td>\n",
       "      <td>NaN</td>\n",
       "      <td>Catherine Mcauley</td>\n",
       "      <td>Way</td>\n",
       "      <td>NaN</td>\n",
       "      <td>NaN</td>\n",
       "      <td>Knoxville</td>\n",
       "      <td>TN</td>\n",
       "      <td>37919</td>\n",
       "      <td>Fall</td>\n",
       "      <td>401   Catherine Mcauley Way</td>\n",
       "      <td>401   Catherine Mcauley Way, Knoxville, TN, 37919</td>\n",
       "    </tr>\n",
       "    <tr>\n",
       "      <th>...</th>\n",
       "      <td>...</td>\n",
       "      <td>...</td>\n",
       "      <td>...</td>\n",
       "      <td>...</td>\n",
       "      <td>...</td>\n",
       "      <td>...</td>\n",
       "      <td>...</td>\n",
       "      <td>...</td>\n",
       "      <td>...</td>\n",
       "      <td>...</td>\n",
       "      <td>...</td>\n",
       "      <td>...</td>\n",
       "      <td>...</td>\n",
       "      <td>...</td>\n",
       "      <td>...</td>\n",
       "      <td>...</td>\n",
       "      <td>...</td>\n",
       "      <td>...</td>\n",
       "    </tr>\n",
       "    <tr>\n",
       "      <th>128708</th>\n",
       "      <td>NaN</td>\n",
       "      <td>2017-10-01</td>\n",
       "      <td>NaN</td>\n",
       "      <td>5801</td>\n",
       "      <td>1306</td>\n",
       "      <td>Cooking</td>\n",
       "      <td>32</td>\n",
       "      <td>NaN</td>\n",
       "      <td>Mack</td>\n",
       "      <td>St</td>\n",
       "      <td>NaN</td>\n",
       "      <td>NaN</td>\n",
       "      <td>Jackson</td>\n",
       "      <td>TN</td>\n",
       "      <td>38305</td>\n",
       "      <td>Fall</td>\n",
       "      <td>32   Mack St</td>\n",
       "      <td>32   Mack St, Jackson, TN, 38305</td>\n",
       "    </tr>\n",
       "    <tr>\n",
       "      <th>128749</th>\n",
       "      <td>NaN</td>\n",
       "      <td>2017-10-01</td>\n",
       "      <td>NaN</td>\n",
       "      <td>5801</td>\n",
       "      <td>1893</td>\n",
       "      <td>Other Equiptment</td>\n",
       "      <td>0</td>\n",
       "      <td>N</td>\n",
       "      <td>Military Main Ent To Fairgroun</td>\n",
       "      <td>NaN</td>\n",
       "      <td>NaN</td>\n",
       "      <td>NaN</td>\n",
       "      <td>Lawrenceburg</td>\n",
       "      <td>TN</td>\n",
       "      <td>38464</td>\n",
       "      <td>Fall</td>\n",
       "      <td>0 N Military Main Ent To Fairgroun</td>\n",
       "      <td>0 N Military Main Ent To Fairgroun, Lawrencebu...</td>\n",
       "    </tr>\n",
       "    <tr>\n",
       "      <th>128851</th>\n",
       "      <td>NaN</td>\n",
       "      <td>2017-10-01</td>\n",
       "      <td>NaN</td>\n",
       "      <td>5804</td>\n",
       "      <td>0002375</td>\n",
       "      <td>Cooking</td>\n",
       "      <td>1612</td>\n",
       "      <td>NaN</td>\n",
       "      <td>Kirby</td>\n",
       "      <td>St</td>\n",
       "      <td>NaN</td>\n",
       "      <td>NaN</td>\n",
       "      <td>Springfield</td>\n",
       "      <td>TN</td>\n",
       "      <td>37172</td>\n",
       "      <td>Fall</td>\n",
       "      <td>1612   Kirby St</td>\n",
       "      <td>1612   Kirby St, Springfield, TN, 37172</td>\n",
       "    </tr>\n",
       "    <tr>\n",
       "      <th>129095</th>\n",
       "      <td>NaN</td>\n",
       "      <td>2017-10-01</td>\n",
       "      <td>NaN</td>\n",
       "      <td>5806</td>\n",
       "      <td>0000900</td>\n",
       "      <td>Cooking</td>\n",
       "      <td>640</td>\n",
       "      <td>NaN</td>\n",
       "      <td>Deer Lodge Hwy</td>\n",
       "      <td>NaN</td>\n",
       "      <td>NaN</td>\n",
       "      <td>NaN</td>\n",
       "      <td>Clark Range</td>\n",
       "      <td>TN</td>\n",
       "      <td>38553</td>\n",
       "      <td>Fall</td>\n",
       "      <td>640   Deer Lodge Hwy</td>\n",
       "      <td>640   Deer Lodge Hwy, Clark Range, TN, 38553</td>\n",
       "    </tr>\n",
       "    <tr>\n",
       "      <th>129327</th>\n",
       "      <td>NaN</td>\n",
       "      <td>2017-10-01</td>\n",
       "      <td>NaN</td>\n",
       "      <td>5812</td>\n",
       "      <td>848</td>\n",
       "      <td>Cooking</td>\n",
       "      <td>203</td>\n",
       "      <td>NaN</td>\n",
       "      <td>Edgewood</td>\n",
       "      <td>St</td>\n",
       "      <td>NaN</td>\n",
       "      <td>NaN</td>\n",
       "      <td>Mount Pleasant</td>\n",
       "      <td>TN</td>\n",
       "      <td>38474</td>\n",
       "      <td>Fall</td>\n",
       "      <td>203   Edgewood St</td>\n",
       "      <td>203   Edgewood St, Mount Pleasant, TN, 38474</td>\n",
       "    </tr>\n",
       "  </tbody>\n",
       "</table>\n",
       "<p>495 rows × 18 columns</p>\n",
       "</div>"
      ],
      "text/plain": [
       "       INCIDENT_KEY incident_date STATE_x  FDID_x INC_NO_x        CAUSE_CODE  \\\n",
       "90328           NaN    2017-10-01     NaN   11100      724           Unknown   \n",
       "90353           NaN    2017-10-01     NaN   12150  017-001           Heating   \n",
       "90394           NaN    2017-10-01     NaN   12200  0000033           Heating   \n",
       "90396           NaN    2017-10-01     NaN   12200  0000033           Heating   \n",
       "90460           NaN    2017-10-01     NaN   12200  0000061           Smoking   \n",
       "...             ...           ...     ...     ...      ...               ...   \n",
       "128708          NaN    2017-10-01     NaN    5801     1306           Cooking   \n",
       "128749          NaN    2017-10-01     NaN    5801     1893  Other Equiptment   \n",
       "128851          NaN    2017-10-01     NaN    5804  0002375           Cooking   \n",
       "129095          NaN    2017-10-01     NaN    5806  0000900           Cooking   \n",
       "129327          NaN    2017-10-01     NaN    5812      848           Cooking   \n",
       "\n",
       "       NUM_MILE STREET_PRE                      STREETNAME STREETTYPE  \\\n",
       "90328       414          W                         Baldwin         St   \n",
       "90353        24        NaN                    I65 North 24        NaN   \n",
       "90394       NaN          S                      Northshore         Dr   \n",
       "90396      6917        NaN                         Clowers         Dr   \n",
       "90460       401        NaN               Catherine Mcauley        Way   \n",
       "...         ...        ...                             ...        ...   \n",
       "128708       32        NaN                            Mack         St   \n",
       "128749        0          N  Military Main Ent To Fairgroun        NaN   \n",
       "128851     1612        NaN                           Kirby         St   \n",
       "129095      640        NaN                  Deer Lodge Hwy        NaN   \n",
       "129327      203        NaN                        Edgewood         St   \n",
       "\n",
       "       STREETSUF APT_NO            CITY STATE_ID   ZIP5 Season  \\\n",
       "90328        NaN    NaN        Rockwood       TN  37854   Fall   \n",
       "90353        NaN    NaN    Cornersville       TN  37047   Fall   \n",
       "90394        NaN    NaN       Knoxville       TN  37919   Fall   \n",
       "90396        NaN    NaN       Knoxville       TN  37924   Fall   \n",
       "90460        NaN    NaN       Knoxville       TN  37919   Fall   \n",
       "...          ...    ...             ...      ...    ...    ...   \n",
       "128708       NaN    NaN         Jackson       TN  38305   Fall   \n",
       "128749       NaN    NaN    Lawrenceburg       TN  38464   Fall   \n",
       "128851       NaN    NaN     Springfield       TN  37172   Fall   \n",
       "129095       NaN    NaN     Clark Range       TN  38553   Fall   \n",
       "129327       NaN    NaN  Mount Pleasant       TN  38474   Fall   \n",
       "\n",
       "                                   Address  \\\n",
       "90328                     414 W Baldwin St   \n",
       "90353                    24   I65 North 24   \n",
       "90394                  nan S Northshore Dr   \n",
       "90396                    6917   Clowers Dr   \n",
       "90460          401   Catherine Mcauley Way   \n",
       "...                                    ...   \n",
       "128708                        32   Mack St   \n",
       "128749  0 N Military Main Ent To Fairgroun   \n",
       "128851                     1612   Kirby St   \n",
       "129095                640   Deer Lodge Hwy   \n",
       "129327                   203   Edgewood St   \n",
       "\n",
       "                                             full_address  \n",
       "90328               414 W Baldwin St, Rockwood, TN, 37854  \n",
       "90353          24   I65 North 24, Cornersville, TN, 37047  \n",
       "90394           nan S Northshore Dr, Knoxville, TN, 37919  \n",
       "90396             6917   Clowers Dr, Knoxville, TN, 37924  \n",
       "90460   401   Catherine Mcauley Way, Knoxville, TN, 37919  \n",
       "...                                                   ...  \n",
       "128708                   32   Mack St, Jackson, TN, 38305  \n",
       "128749  0 N Military Main Ent To Fairgroun, Lawrencebu...  \n",
       "128851            1612   Kirby St, Springfield, TN, 37172  \n",
       "129095       640   Deer Lodge Hwy, Clark Range, TN, 38553  \n",
       "129327       203   Edgewood St, Mount Pleasant, TN, 38474  \n",
       "\n",
       "[495 rows x 18 columns]"
      ]
     },
     "execution_count": 17,
     "metadata": {},
     "output_type": "execute_result"
    }
   ],
   "source": [
    "tnfires.loc[tnfires['incident_date'] == '2017-10-01']"
   ]
  },
  {
   "cell_type": "code",
   "execution_count": null,
   "id": "c08281b8",
   "metadata": {},
   "outputs": [],
   "source": []
  },
  {
   "cell_type": "code",
   "execution_count": null,
   "id": "8b96f90e",
   "metadata": {},
   "outputs": [],
   "source": []
  }
 ],
 "metadata": {
  "kernelspec": {
   "display_name": "Python 3 (ipykernel)",
   "language": "python",
   "name": "python3"
  },
  "language_info": {
   "codemirror_mode": {
    "name": "ipython",
    "version": 3
   },
   "file_extension": ".py",
   "mimetype": "text/x-python",
   "name": "python",
   "nbconvert_exporter": "python",
   "pygments_lexer": "ipython3",
   "version": "3.10.9"
  }
 },
 "nbformat": 4,
 "nbformat_minor": 5
}
