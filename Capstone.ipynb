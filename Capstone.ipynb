{
 "cells": [
  {
   "cell_type": "code",
   "execution_count": null,
   "id": "43298c5b",
   "metadata": {},
   "outputs": [],
   "source": [
    "import pandas as pd\n",
    "import matplotlib.pyplot as plt\n",
    "import folium\n",
    "from folium.plugins import MarkerCluster\n",
    "from folium.plugins import FastMarkerCluster\n",
    "import re\n",
    "\n",
    "%matplotlib inline"
   ]
  },
  {
   "cell_type": "markdown",
   "id": "163d34d7",
   "metadata": {},
   "source": [
    "### 2021 All Fire Incidents in United States"
   ]
  },
  {
   "cell_type": "code",
   "execution_count": null,
   "id": "acb19bf7",
   "metadata": {},
   "outputs": [],
   "source": [
    "fire2021 = pd.read_csv('data/2021fireincident.txt', delimiter = '^')\n",
    "fire2021"
   ]
  },
  {
   "cell_type": "code",
   "execution_count": null,
   "id": "830007c3",
   "metadata": {},
   "outputs": [],
   "source": [
    "fire2021['incident_date'] = pd.to_datetime(fire2021['INC_DATE'], format='%m%d%Y')\n",
    "fire2021 = fire2021.drop(columns=['INC_DATE'])\n",
    "fire2021\n"
   ]
  },
  {
   "cell_type": "code",
   "execution_count": null,
   "id": "449837c8",
   "metadata": {},
   "outputs": [],
   "source": [
    "fire2021= fire2021.drop_duplicates()\n",
    "fire2021\n"
   ]
  },
  {
   "cell_type": "code",
   "execution_count": null,
   "id": "4df11d1e",
   "metadata": {},
   "outputs": [],
   "source": [
    "fire2021 = fire2021.loc[fire2021['STATE'] == 'TN']\n",
    "fire2021\n"
   ]
  },
  {
   "cell_type": "markdown",
   "id": "5dbc3730",
   "metadata": {},
   "source": [
    "#### Sex and Age of those who caused fires"
   ]
  },
  {
   "cell_type": "markdown",
   "id": "cccfad0b",
   "metadata": {},
   "source": [
    "fire2021 = fire2021.loc[fire2021['STATE']== 'TN']\n",
    "fire2021[['INCIDENT_KEY','HUM_FAC_7', 'SEX', 'AGE']]"
   ]
  },
  {
   "cell_type": "markdown",
   "id": "9d179bcc",
   "metadata": {},
   "source": [
    "### Cause codes for fire incidents(use pdf in data folder to identify cause codes)"
   ]
  },
  {
   "cell_type": "code",
   "execution_count": null,
   "id": "d7c39a2a",
   "metadata": {},
   "outputs": [],
   "source": [
    "firecauses2021 = pd.read_csv('../data/2021causes.txt', delimiter = '^')\n",
    "firecauses2021"
   ]
  },
  {
   "cell_type": "markdown",
   "id": "4ebe30b8",
   "metadata": {},
   "source": [
    "#### Created Dictionary to rename 'CAUSE_CODE' values as actual descriptions \n",
    "#### !!!USE 'Data Analysis Guide' pg. 27!!!"
   ]
  },
  {
   "cell_type": "code",
   "execution_count": null,
   "id": "68491157",
   "metadata": {
    "scrolled": true
   },
   "outputs": [],
   "source": [
    "firecauses2021.CAUSE_CODE = firecauses2021.CAUSE_CODE.astype(str).str.strip()\n",
    "firecauses2021.CAUSE_CODE.unique()"
   ]
  },
  {
   "cell_type": "code",
   "execution_count": null,
   "id": "f5337920",
   "metadata": {},
   "outputs": [],
   "source": [
    "dict = {'15' : 'Other Unintentional', '1' : 'Intentional', \"2\" : 'Playing with Heat Source', '3' : 'Smoking', '4' : 'Heating', '5' : 'Cooking', '6' : 'Electrical Malfunction', '7' : 'Appliances', '8' : 'Open Flame', '9' : 'Other Heat', '10' : 'Other Equiptment', '11' : 'Natural', '12' : 'Exposure', '13' : 'Unknown', '14' : 'Equiptment Misoperation, Failure', '16' : 'Investigation with Arson Module'}\n",
    "\n",
    "firecauses2021['CAUSE_CODE'] = firecauses2021['CAUSE_CODE'].replace(dict)\n",
    "firecauses2021"
   ]
  },
  {
   "cell_type": "markdown",
   "id": "7c39b453",
   "metadata": {},
   "source": [
    "# 2021 Fire incident addresses (United States)"
   ]
  },
  {
   "cell_type": "code",
   "execution_count": null,
   "id": "05dd2b79",
   "metadata": {
    "scrolled": true
   },
   "outputs": [],
   "source": [
    "fire2021_address = pd.read_csv('data/2021incidentaddress.txt', delimiter = '^', encoding='latin-1')\n",
    "fire2021_address"
   ]
  },
  {
   "cell_type": "markdown",
   "id": "4c00c1b2",
   "metadata": {},
   "source": [
    "### 2021 Fire Incident address (TN)\n"
   ]
  },
  {
   "cell_type": "code",
   "execution_count": null,
   "id": "1fec5afe",
   "metadata": {},
   "outputs": [],
   "source": [
    "fire2021_TNaddress = fire2021_address.loc[fire2021_address['STATE_ID'] == 'TN'].drop('ZIP4', axis = 1)\n",
    "fire2021_TNaddress = fire2021_TNaddress.reset_index(drop = True)\n",
    "fire2021_TNaddress"
   ]
  },
  {
   "cell_type": "code",
   "execution_count": null,
   "id": "913eea1f",
   "metadata": {},
   "outputs": [],
   "source": [
    "fire2021_TNaddress = fire2021_TNaddress.loc[fire2021_TNaddress['STATE'] == 'TN']\n",
    "fire2021_TNaddress"
   ]
  },
  {
   "cell_type": "markdown",
   "id": "d83fb3b2",
   "metadata": {},
   "source": [
    "#### Changing case on 'STREETNAME', 'STREETTYPE', 'CITY', and 'STATE_ID'"
   ]
  },
  {
   "cell_type": "code",
   "execution_count": null,
   "id": "76fc6796",
   "metadata": {},
   "outputs": [],
   "source": [
    "fire2021_TNaddress['STREETNAME'] = fire2021_TNaddress['STREETNAME'].str.title()\n",
    "fire2021_TNaddress['STREETTYPE'] = fire2021_TNaddress['STREETTYPE'].str.title()\n",
    "fire2021_TNaddress['CITY'] = fire2021_TNaddress['CITY'].str.title()\n",
    "fire2021_TNaddress['STATE_ID'] = fire2021_TNaddress['STATE_ID'].str.upper()\n",
    "fire2021_TNaddress"
   ]
  },
  {
   "cell_type": "markdown",
   "id": "7aed87c1",
   "metadata": {},
   "source": [
    "#### Changing 'INC_DATE' to datetime"
   ]
  },
  {
   "cell_type": "code",
   "execution_count": null,
   "id": "09b69092",
   "metadata": {},
   "outputs": [],
   "source": [
    "fire2021_TNaddress['incident_date'] = pd.to_datetime(fire2021_TNaddress['INC_DATE'], format='%m%d%Y')"
   ]
  },
  {
   "cell_type": "code",
   "execution_count": null,
   "id": "d44e1720",
   "metadata": {},
   "outputs": [],
   "source": [
    "fire2021_TNaddress = fire2021_TNaddress.drop(columns=['INC_DATE'])\n",
    "fire2021_TNaddress"
   ]
  },
  {
   "cell_type": "markdown",
   "id": "8d79b5bb",
   "metadata": {},
   "source": [
    "#### !!!Extract the first 5 digits of the zipcode in order to drop the '.0'!!!"
   ]
  },
  {
   "cell_type": "code",
   "execution_count": null,
   "id": "6addb10a",
   "metadata": {},
   "outputs": [],
   "source": [
    "fire2021_TNaddress['ZIP5'] = fire2021_TNaddress['ZIP5'].astype(str).str.replace('\\.0$', '', regex=True)\n",
    "fire2021_TNaddress"
   ]
  },
  {
   "cell_type": "markdown",
   "id": "f301db82",
   "metadata": {},
   "source": [
    "### 2021 Fire Incident addresses (Nashville, TN)\n",
    "#### (possibly narrow down to just specific zipcodes in which Nash Fire Dept responds to. For visulization purposes, follow the 'TN fire stats' link in favorites bar. TN State stats, Davidson Co stats, Nash/zipcode stats))"
   ]
  },
  {
   "cell_type": "code",
   "execution_count": null,
   "id": "3a92f170",
   "metadata": {},
   "outputs": [],
   "source": [
    "fire2021_nash_address = fire2021_TNaddress.loc[fire2021_TNaddress['CITY'] == 'Nashville']\n",
    "fire2021_nash_address.to_csv('fire2021__nash_address.csv')\n",
    "fire2021_nash_address = fire2021_nash_address.reset_index(drop = True)\n",
    "fire2021_nash_address.head()"
   ]
  },
  {
   "cell_type": "code",
   "execution_count": null,
   "id": "377c4570",
   "metadata": {},
   "outputs": [],
   "source": [
    "fire2021_nash_address.ZIP5.unique()"
   ]
  },
  {
   "cell_type": "markdown",
   "id": "6e9e01af",
   "metadata": {},
   "source": [
    "### Combining All 2021 Tables"
   ]
  },
  {
   "cell_type": "code",
   "execution_count": null,
   "id": "2f13285d",
   "metadata": {},
   "outputs": [],
   "source": [
    "tn2021 = pd.merge(firecauses2021, fire2021_TNaddress, \n",
    "                               on = 'INCIDENT_KEY', \n",
    "                               how = 'inner')\n",
    "tn2021 = tn2021[['INCIDENT_KEY', 'incident_date', 'STATE_x', 'FDID_x', 'INC_NO_x', 'CAUSE_CODE', 'NUM_MILE', 'STREET_PRE','STREETNAME', 'STREETTYPE', 'STREETSUF', 'APT_NO','CITY', 'STATE_ID', 'ZIP5']]\n",
    "tn2021.to_csv('tn2021.csv')\n",
    "tn2021"
   ]
  },
  {
   "cell_type": "code",
   "execution_count": null,
   "id": "bd76d7fd",
   "metadata": {},
   "outputs": [],
   "source": [
    "nash2021 = pd.merge(firecauses2021, fire2021_nash_address, \n",
    "                               on = 'INCIDENT_KEY', \n",
    "                               how = 'inner')\n",
    "nash2021 = nash2021[['INCIDENT_KEY', 'incident_date', 'STATE_x', 'FDID_x', 'INC_NO_x', 'CAUSE_CODE', 'NUM_MILE', 'STREET_PRE','STREETNAME', 'STREETTYPE', 'STREETSUF', 'APT_NO','CITY', 'STATE_ID', 'ZIP5']]\n",
    "nash2021.to_csv('nash2021.csv')\n",
    "nash2021"
   ]
  },
  {
   "cell_type": "markdown",
   "id": "8bfc655a",
   "metadata": {},
   "source": [
    "# 2020 All Fire Incident  (United States)\n"
   ]
  },
  {
   "cell_type": "code",
   "execution_count": null,
   "id": "9fbe9279",
   "metadata": {
    "scrolled": true
   },
   "outputs": [],
   "source": [
    "fire2020 = pd.read_csv('data/2020fireincident.txt', delimiter = '^')\n",
    "fire2020"
   ]
  },
  {
   "cell_type": "code",
   "execution_count": null,
   "id": "cddb529a",
   "metadata": {},
   "outputs": [],
   "source": [
    "fire2020['incident_date'] = pd.to_datetime(fire2020['INC_DATE'], format='%m%d%Y')\n",
    "fire2020 = fire2020.drop(columns=['INC_DATE'])\n",
    "fire2020\n"
   ]
  },
  {
   "cell_type": "code",
   "execution_count": null,
   "id": "96cb0516",
   "metadata": {},
   "outputs": [],
   "source": [
    "fire2020= fire2020.drop_duplicates()\n",
    "fire2020\n"
   ]
  },
  {
   "cell_type": "code",
   "execution_count": null,
   "id": "220c7abf",
   "metadata": {},
   "outputs": [],
   "source": [
    "fire2020 = fire2020.loc[fire2020['STATE'] == 'TN']\n",
    "fire2020\n"
   ]
  },
  {
   "cell_type": "markdown",
   "id": "44e98d82",
   "metadata": {},
   "source": [
    "### 2020 Fire incident addresses (United States)"
   ]
  },
  {
   "cell_type": "code",
   "execution_count": null,
   "id": "f0dc3b95",
   "metadata": {},
   "outputs": [],
   "source": [
    "fire2020_address = pd.read_csv('../data/2020incidentaddress.txt', delimiter = '^', encoding='latin-1')\n",
    "fire2020_address"
   ]
  },
  {
   "cell_type": "markdown",
   "id": "847456b8",
   "metadata": {},
   "source": [
    "### 2020 Fire Causes"
   ]
  },
  {
   "cell_type": "code",
   "execution_count": null,
   "id": "3d76e580",
   "metadata": {},
   "outputs": [],
   "source": [
    "firecauses2020 = pd.read_csv('../data/2020causes.txt', delimiter = '^')\n",
    "firecauses2020"
   ]
  },
  {
   "cell_type": "code",
   "execution_count": null,
   "id": "78781bfb",
   "metadata": {},
   "outputs": [],
   "source": [
    "firecauses2020.CAUSE_CODE = firecauses2020.CAUSE_CODE.astype(str).str.strip()\n",
    "firecauses2020.CAUSE_CODE.unique()"
   ]
  },
  {
   "cell_type": "code",
   "execution_count": null,
   "id": "733e7bd2",
   "metadata": {},
   "outputs": [],
   "source": [
    "dict = {'15' : 'Other Unintentional', '1' : 'Intentional', \"2\" : 'Playing with Heat Source', '3' : 'Smoking', '4' : 'Heating', '5' : 'Cooking', '6' : 'Electrical Malfunction', '7' : 'Appliances', '8' : 'Open Flame', '9' : 'Other Heat', '10' : 'Other Equiptment', '11' : 'Natural', '12' : 'Exposure', '13' : 'Unknown', '14' : 'Equiptment Misoperation, Failure', '16' : 'Investigation with Arson Module'}\n",
    "\n",
    "firecauses2020['CAUSE_CODE'] = firecauses2020['CAUSE_CODE'].replace(dict)\n",
    "firecauses2020"
   ]
  },
  {
   "cell_type": "markdown",
   "id": "a1ad9948",
   "metadata": {},
   "source": [
    "### 2020 Fire incident address (TN)"
   ]
  },
  {
   "cell_type": "code",
   "execution_count": null,
   "id": "91a6fbdf",
   "metadata": {},
   "outputs": [],
   "source": [
    "fire2020_TNaddress = fire2020_address.loc[fire2020_address['STATE_ID'] == 'TN'].drop('ZIP4', axis = 1)\n",
    "fire2020_TNaddress = fire2020_TNaddress.reset_index(drop = True)\n",
    "fire2020_TNaddress"
   ]
  },
  {
   "cell_type": "code",
   "execution_count": null,
   "id": "412b9746",
   "metadata": {},
   "outputs": [],
   "source": [
    "fire2020_TNaddress = fire2020_TNaddress.loc[fire2020_TNaddress['STATE'] == 'TN']\n",
    "fire2020_TNaddress"
   ]
  },
  {
   "cell_type": "markdown",
   "id": "3752cb4c",
   "metadata": {},
   "source": [
    "#### Changing case on 'STREETNAME', 'STREETTYPE', 'CITY', and 'STATE_ID'"
   ]
  },
  {
   "cell_type": "code",
   "execution_count": null,
   "id": "ceb2b9b0",
   "metadata": {},
   "outputs": [],
   "source": [
    "fire2020_TNaddress['STREETNAME'] = fire2020_TNaddress['STREETNAME'].str.title()\n",
    "fire2020_TNaddress['STREETTYPE'] = fire2020_TNaddress['STREETTYPE'].str.title()\n",
    "fire2020_TNaddress['CITY'] = fire2020_TNaddress['CITY'].str.title()\n",
    "fire2020_TNaddress['STATE_ID'] = fire2020_TNaddress['STATE_ID'].str.upper()\n",
    "fire2020_TNaddress"
   ]
  },
  {
   "cell_type": "markdown",
   "id": "f161431e",
   "metadata": {},
   "source": [
    "#### Changing 'INC_DATE' to datetime"
   ]
  },
  {
   "cell_type": "code",
   "execution_count": null,
   "id": "618ae349",
   "metadata": {},
   "outputs": [],
   "source": [
    "fire2020_TNaddress['incident_date'] = pd.to_datetime(fire2020_TNaddress['INC_DATE'], format='%m%d%Y')"
   ]
  },
  {
   "cell_type": "code",
   "execution_count": null,
   "id": "2442d6ec",
   "metadata": {},
   "outputs": [],
   "source": [
    "fire2020_TNaddress = fire2020_TNaddress.drop(columns=['INC_DATE'])\n",
    "fire2020_TNaddress"
   ]
  },
  {
   "cell_type": "markdown",
   "id": "f893d245",
   "metadata": {},
   "source": [
    "#### Extract the first 5 digits of the zipcode in order to drop the '.0'"
   ]
  },
  {
   "cell_type": "code",
   "execution_count": null,
   "id": "49dc8923",
   "metadata": {},
   "outputs": [],
   "source": [
    "fire2020_TNaddress['ZIP5'] = fire2020_TNaddress['ZIP5'].astype(str).str.replace('\\.0$', '', regex=True)\n",
    "fire2020_TNaddress"
   ]
  },
  {
   "cell_type": "markdown",
   "id": "9cd6374e",
   "metadata": {},
   "source": [
    "### 2020 Fire Incident addresses (Nashville, TN)\n",
    "#### (possibly narrow down to just specific zipcodes in which Nash Fire Dept responds to. For visulization purposes, follow the 'TN fire stats' link in favorites bar. TN State stats, Davidson Co stats, Nash/zipcode stats))"
   ]
  },
  {
   "cell_type": "code",
   "execution_count": null,
   "id": "cbb5fef9",
   "metadata": {},
   "outputs": [],
   "source": [
    "fire2020_nash_address = fire2020_TNaddress.loc[fire2020_TNaddress['CITY'] == 'Nashville']\n",
    "fire2020_nash_address = fire2020_nash_address.reset_index(drop = True)\n",
    "fire2020_nash_address.head()"
   ]
  },
  {
   "cell_type": "markdown",
   "id": "7ad20654",
   "metadata": {},
   "source": [
    "### Combining All 2020 Tables"
   ]
  },
  {
   "cell_type": "code",
   "execution_count": null,
   "id": "98487032",
   "metadata": {},
   "outputs": [],
   "source": [
    "tn2020 = pd.merge(firecauses2020, fire2020_TNaddress, \n",
    "                               on = 'INCIDENT_KEY', \n",
    "                               how = 'inner')\n",
    "tn2020 = tn2020[['INCIDENT_KEY', 'incident_date', 'STATE_x', 'FDID_x', 'INC_NO_x', 'CAUSE_CODE', 'NUM_MILE', 'STREET_PRE','STREETNAME', 'STREETTYPE', 'STREETSUF', 'APT_NO','CITY', 'STATE_ID', 'ZIP5']]\n",
    "tn2020.to_csv('tn2020.csv')"
   ]
  },
  {
   "cell_type": "code",
   "execution_count": null,
   "id": "9faea6f1",
   "metadata": {},
   "outputs": [],
   "source": [
    "nash2020 = pd.merge(firecauses2020, fire2020_nash_address, \n",
    "                               on = 'INCIDENT_KEY', \n",
    "                               how = 'inner')\n",
    "nash2020 = nash2020[['INCIDENT_KEY', 'incident_date', 'STATE_x', 'FDID_x', 'INC_NO_x', 'CAUSE_CODE', 'NUM_MILE', 'STREET_PRE','STREETNAME', 'STREETTYPE', 'STREETSUF', 'APT_NO','CITY', 'STATE_ID', 'ZIP5']]\n",
    "nash2020.to_csv('nash2020.csv')"
   ]
  },
  {
   "cell_type": "markdown",
   "id": "d49b1405",
   "metadata": {},
   "source": [
    "# 2019 All Fire Incident  (United States)"
   ]
  },
  {
   "cell_type": "code",
   "execution_count": null,
   "id": "57304bf3",
   "metadata": {
    "scrolled": true
   },
   "outputs": [],
   "source": [
    "fire2019 = pd.read_csv('data/2019fireincident.txt', delimiter = '^')\n",
    "fire2019"
   ]
  },
  {
   "cell_type": "code",
   "execution_count": null,
   "id": "d78178e4",
   "metadata": {},
   "outputs": [],
   "source": [
    "fire2019['incident_date'] = pd.to_datetime(fire2019['INC_DATE'], format='%m%d%Y')\n",
    "fire2019 = fire2019.drop(columns=['INC_DATE'])\n",
    "fire2019\n"
   ]
  },
  {
   "cell_type": "code",
   "execution_count": null,
   "id": "a168b05d",
   "metadata": {},
   "outputs": [],
   "source": [
    "fire2019= fire2019.drop_duplicates()\n",
    "fire2019\n"
   ]
  },
  {
   "cell_type": "code",
   "execution_count": null,
   "id": "4d21e294",
   "metadata": {},
   "outputs": [],
   "source": [
    "fire2019 = fire2017.loc[fire2019['STATE'] == 'TN']\n",
    "fire2019\n"
   ]
  },
  {
   "cell_type": "markdown",
   "id": "fbb3822b",
   "metadata": {},
   "source": [
    "### 2019 Fire incident addresses (United States)"
   ]
  },
  {
   "cell_type": "code",
   "execution_count": null,
   "id": "f97c058d",
   "metadata": {},
   "outputs": [],
   "source": [
    "fire2019_address = pd.read_csv('../data/2019incidentaddress.txt', delimiter = '^', encoding='latin-1')\n",
    "fire2019_address"
   ]
  },
  {
   "cell_type": "markdown",
   "id": "df5ae654",
   "metadata": {},
   "source": [
    "### 2019 Fire Causes"
   ]
  },
  {
   "cell_type": "code",
   "execution_count": null,
   "id": "f316b500",
   "metadata": {},
   "outputs": [],
   "source": [
    "firecauses2019 = pd.read_csv('../data/2019causes.txt', delimiter = '^')\n",
    "firecauses2019"
   ]
  },
  {
   "cell_type": "code",
   "execution_count": null,
   "id": "9fb19694",
   "metadata": {},
   "outputs": [],
   "source": [
    "firecauses2019.CAUSE_CODE = firecauses2019.CAUSE_CODE.astype(str).str.strip()\n",
    "firecauses2019.CAUSE_CODE.unique()"
   ]
  },
  {
   "cell_type": "code",
   "execution_count": null,
   "id": "a0acc832",
   "metadata": {},
   "outputs": [],
   "source": [
    "dict = {'15' : 'Other Unintentional', '1' : 'Intentional', \"2\" : 'Playing with Heat Source', '3' : 'Smoking', '4' : 'Heating', '5' : 'Cooking', '6' : 'Electrical Malfunction', '7' : 'Appliances', '8' : 'Open Flame', '9' : 'Other Heat', '10' : 'Other Equiptment', '11' : 'Natural', '12' : 'Exposure', '13' : 'Unknown', '14' : 'Equiptment Misoperation, Failure', '16' : 'Investigation with Arson Module'}\n",
    "\n",
    "firecauses2019['CAUSE_CODE'] = firecauses2019['CAUSE_CODE'].replace(dict)\n",
    "firecauses2019"
   ]
  },
  {
   "cell_type": "markdown",
   "id": "74a065b2",
   "metadata": {},
   "source": [
    "### 2019 Fire incident address (TN)"
   ]
  },
  {
   "cell_type": "code",
   "execution_count": null,
   "id": "7811ecd2",
   "metadata": {},
   "outputs": [],
   "source": [
    "fire2019_TNaddress = fire2019_address.loc[fire2019_address['STATE_ID'] == 'TN'].drop('ZIP4', axis = 1)\n",
    "fire2019_TNaddress = fire2019_TNaddress.reset_index(drop = True)\n",
    "fire2019_TNaddress"
   ]
  },
  {
   "cell_type": "code",
   "execution_count": null,
   "id": "1af53017",
   "metadata": {},
   "outputs": [],
   "source": [
    "fire2019_TNaddress = fire2019_TNaddress.loc[fire2019_TNaddress['STATE'] == 'TN']\n",
    "fire2019_TNaddress"
   ]
  },
  {
   "cell_type": "markdown",
   "id": "3d352274",
   "metadata": {},
   "source": [
    "#### Changing case on 'STREETNAME', 'STREETTYPE', 'CITY', and 'STATE_ID'"
   ]
  },
  {
   "cell_type": "code",
   "execution_count": null,
   "id": "f5f4f1d4",
   "metadata": {},
   "outputs": [],
   "source": [
    "fire2019_TNaddress['STREETNAME'] = fire2019_TNaddress['STREETNAME'].str.title()\n",
    "fire2019_TNaddress['STREETTYPE'] = fire2019_TNaddress['STREETTYPE'].str.title()\n",
    "fire2019_TNaddress['CITY'] = fire2019_TNaddress['CITY'].str.title()\n",
    "fire2019_TNaddress['STATE_ID'] = fire2019_TNaddress['STATE_ID'].str.upper()\n",
    "fire2019_TNaddress"
   ]
  },
  {
   "cell_type": "markdown",
   "id": "5e766f50",
   "metadata": {},
   "source": [
    "#### Changing 'INC_DATE' to datetime"
   ]
  },
  {
   "cell_type": "code",
   "execution_count": null,
   "id": "bf1e4bb1",
   "metadata": {},
   "outputs": [],
   "source": [
    "fire2019_TNaddress['incident_date'] = pd.to_datetime(fire2019_TNaddress['INC_DATE'], format='%m%d%Y')\n",
    "fire2019_TNaddress = fire2019_TNaddress.drop(columns=['INC_DATE'])\n",
    "fire2019_TNaddress"
   ]
  },
  {
   "cell_type": "markdown",
   "id": "c6b1680b",
   "metadata": {},
   "source": [
    "#### Extract the first 5 digits of the zipcode in order to drop the '.0'"
   ]
  },
  {
   "cell_type": "code",
   "execution_count": null,
   "id": "48259a64",
   "metadata": {},
   "outputs": [],
   "source": [
    "fire2019_TNaddress['ZIP5'] = fire2019_TNaddress['ZIP5'].astype(str).str.replace('\\.0$', '', regex=True)\n",
    "fire2019_TNaddress"
   ]
  },
  {
   "cell_type": "markdown",
   "id": "ca9c8c4d",
   "metadata": {},
   "source": [
    "### 2019 Fire Incident addresses (Nashville, TN)\n",
    "#### (possibly narrow down to just specific zipcodes in which Nash Fire Dept responds to. For visulization purposes, follow the 'TN fire stats' link in favorites bar. TN State stats, Davidson Co stats, Nash/zipcode stats))"
   ]
  },
  {
   "cell_type": "code",
   "execution_count": null,
   "id": "e2443e57",
   "metadata": {},
   "outputs": [],
   "source": [
    "fire2019_nash_address = fire2019_TNaddress.loc[fire2019_TNaddress['CITY'] == 'Nashville']\n",
    "fire2019_nash_address = fire2019_nash_address.reset_index(drop = True)\n",
    "fire2019_nash_address.head()"
   ]
  },
  {
   "cell_type": "markdown",
   "id": "a23e0091",
   "metadata": {},
   "source": [
    "### Combining All 2019 Tables\n",
    "# saved to csv"
   ]
  },
  {
   "cell_type": "code",
   "execution_count": null,
   "id": "d87966ba",
   "metadata": {},
   "outputs": [],
   "source": [
    "tn2019 = pd.merge(firecauses2019, fire2019_TNaddress, \n",
    "                               on = 'INCIDENT_KEY', \n",
    "                               how = 'inner')\n",
    "tn2019 = tn2019[['INCIDENT_KEY', 'incident_date', 'STATE_x', 'FDID_x', 'INC_NO_x', 'CAUSE_CODE', 'NUM_MILE', 'STREET_PRE','STREETNAME', 'STREETTYPE', 'STREETSUF', 'APT_NO','CITY', 'STATE_ID', 'ZIP5']]\n",
    "tn2019.to_csv('tn2019.csv')\n",
    "tn2019"
   ]
  },
  {
   "cell_type": "code",
   "execution_count": null,
   "id": "621cb44c",
   "metadata": {},
   "outputs": [],
   "source": [
    "nash2019 = pd.merge(firecauses2019, fire2019_nash_address, \n",
    "                               on = 'INCIDENT_KEY', \n",
    "                               how = 'inner')\n",
    "nash2019 = nash2019[['INCIDENT_KEY', 'incident_date', 'STATE_x', 'FDID_x', 'INC_NO_x', 'CAUSE_CODE', 'NUM_MILE', 'STREET_PRE','STREETNAME', 'STREETTYPE', 'STREETSUF', 'APT_NO','CITY', 'STATE_ID', 'ZIP5']]\n",
    "nash2019.to_csv('nash2019.csv')\n",
    "nash2019"
   ]
  },
  {
   "cell_type": "markdown",
   "id": "40577a4c",
   "metadata": {},
   "source": [
    "# 2018 All Fire Incident  (United States)"
   ]
  },
  {
   "cell_type": "code",
   "execution_count": null,
   "id": "f200c20d",
   "metadata": {
    "scrolled": true
   },
   "outputs": [],
   "source": [
    "fire2018 = pd.read_csv('data/2018fireincident.txt', delimiter = '^', encoding='latin-1')\n",
    "fire2018"
   ]
  },
  {
   "cell_type": "code",
   "execution_count": null,
   "id": "6c3b71dd",
   "metadata": {},
   "outputs": [],
   "source": [
    "fire2018['incident_date'] = pd.to_datetime(fire2018['INC_DATE'], format='%m%d%Y')\n",
    "fire2018 = fire2018.drop(columns=['INC_DATE'])\n",
    "fire2018\n"
   ]
  },
  {
   "cell_type": "code",
   "execution_count": null,
   "id": "f446b141",
   "metadata": {},
   "outputs": [],
   "source": [
    "fire2018= fire2018.drop_duplicates()\n",
    "fire2018\n"
   ]
  },
  {
   "cell_type": "code",
   "execution_count": null,
   "id": "7c2261bc",
   "metadata": {},
   "outputs": [],
   "source": [
    "fire2018 = fire2017.loc[fire2017['STATE'] == 'TN']\n",
    "fire2018\n"
   ]
  },
  {
   "cell_type": "markdown",
   "id": "1b4179e1",
   "metadata": {},
   "source": [
    "### 2018 Fire incident addresses (United States)"
   ]
  },
  {
   "cell_type": "code",
   "execution_count": null,
   "id": "83824e9f",
   "metadata": {},
   "outputs": [],
   "source": [
    "fire2018_address = pd.read_csv('../data/2018incidentaddress.txt', delimiter = '^', encoding='latin-1')\n",
    "fire2018_address"
   ]
  },
  {
   "cell_type": "markdown",
   "id": "ca332428",
   "metadata": {},
   "source": [
    "### 2018 Fire Causes"
   ]
  },
  {
   "cell_type": "code",
   "execution_count": null,
   "id": "84bc2649",
   "metadata": {},
   "outputs": [],
   "source": [
    "firecauses2018 = pd.read_csv('../data/2018causes.txt', delimiter = '^')\n",
    "firecauses2018"
   ]
  },
  {
   "cell_type": "code",
   "execution_count": null,
   "id": "16ed5d81",
   "metadata": {},
   "outputs": [],
   "source": [
    "firecauses2018.CAUSE_CODE = firecauses2018.CAUSE_CODE.astype(str).str.strip()\n",
    "firecauses2018.CAUSE_CODE.unique()"
   ]
  },
  {
   "cell_type": "code",
   "execution_count": null,
   "id": "8ba1e42c",
   "metadata": {},
   "outputs": [],
   "source": [
    "dict = {'15' : 'Other Unintentional', '1' : 'Intentional', \"2\" : 'Playing with Heat Source', '3' : 'Smoking', '4' : 'Heating', '5' : 'Cooking', '6' : 'Electrical Malfunction', '7' : 'Appliances', '8' : 'Open Flame', '9' : 'Other Heat', '10' : 'Other Equiptment', '11' : 'Natural', '12' : 'Exposure', '13' : 'Unknown', '14' : 'Equiptment Misoperation, Failure', '16' : 'Investigation with Arson Module'}\n",
    "\n",
    "firecauses2018['CAUSE_CODE'] = firecauses2018['CAUSE_CODE'].replace(dict)\n",
    "firecauses2018"
   ]
  },
  {
   "cell_type": "markdown",
   "id": "540ce48a",
   "metadata": {},
   "source": [
    "### 2018 Fire incident address (TN)"
   ]
  },
  {
   "cell_type": "code",
   "execution_count": null,
   "id": "d8bedaac",
   "metadata": {},
   "outputs": [],
   "source": [
    "fire2018_TNaddress = fire2018_address.loc[fire2018_address['STATE_ID'] == 'TN'].drop('ZIP4', axis = 1)\n",
    "fire2018_TNaddress = fire2018_TNaddress.reset_index(drop = True)\n",
    "fire2018_TNaddress"
   ]
  },
  {
   "cell_type": "code",
   "execution_count": null,
   "id": "ce828d28",
   "metadata": {},
   "outputs": [],
   "source": [
    "fire2018_TNaddress = fire2018_TNaddress.loc[fire2018_TNaddress['STATE'] == 'TN']\n",
    "fire2018_TNaddress"
   ]
  },
  {
   "cell_type": "markdown",
   "id": "2b0818e7",
   "metadata": {},
   "source": [
    "#### Changing case on 'STREETNAME', 'STREETTYPE', 'CITY', and 'STATE_ID'"
   ]
  },
  {
   "cell_type": "code",
   "execution_count": null,
   "id": "83d5c1ec",
   "metadata": {
    "scrolled": true
   },
   "outputs": [],
   "source": [
    "fire2018_TNaddress['STREETNAME'] = fire2018_TNaddress['STREETNAME'].str.title()\n",
    "fire2018_TNaddress['STREETTYPE'] = fire2018_TNaddress['STREETTYPE'].str.title()\n",
    "fire2018_TNaddress['CITY'] = fire2018_TNaddress['CITY'].str.title()\n",
    "fire2018_TNaddress['STATE_ID'] = fire2018_TNaddress['STATE_ID'].str.upper()\n",
    "fire2018_TNaddress"
   ]
  },
  {
   "cell_type": "markdown",
   "id": "13ed0afc",
   "metadata": {},
   "source": [
    "#### Changing 'INC_DATE' to datetime"
   ]
  },
  {
   "cell_type": "code",
   "execution_count": null,
   "id": "0220d01b",
   "metadata": {
    "scrolled": true
   },
   "outputs": [],
   "source": [
    "fire2018_TNaddress['incident_date'] = pd.to_datetime(fire2018_TNaddress['INC_DATE'], format='%m%d%Y')\n",
    "fire2018_TNaddress = fire2018_TNaddress.drop(columns=['INC_DATE'])\n",
    "fire2018_TNaddress"
   ]
  },
  {
   "cell_type": "markdown",
   "id": "71fb7dc9",
   "metadata": {},
   "source": [
    "#### Extract the first 5 digits of the zipcode in order to drop the '.0'"
   ]
  },
  {
   "cell_type": "code",
   "execution_count": null,
   "id": "f5bf8b7d",
   "metadata": {},
   "outputs": [],
   "source": [
    "fire2018_TNaddress['ZIP5'] = fire2018_TNaddress['ZIP5'].astype(str).str.replace('\\.0$', '', regex=True)\n",
    "fire2018_TNaddress"
   ]
  },
  {
   "cell_type": "markdown",
   "id": "f1a9f0ee",
   "metadata": {},
   "source": [
    "### 2018 Fire Incident addresses (Nashville, TN)\n",
    "#### (possibly narrow down to just specific zipcodes in which Nash Fire Dept responds to. For visulization purposes, follow the 'TN fire stats' link in favorites bar. TN State stats, Davidson Co stats, Nash/zipcode stats))"
   ]
  },
  {
   "cell_type": "code",
   "execution_count": null,
   "id": "54d241d4",
   "metadata": {},
   "outputs": [],
   "source": [
    "fire2018_nash_address = fire2018_TNaddress.loc[fire2018_TNaddress['CITY'] == 'Nashville']\n",
    "fire2018_nash_address = fire2018_nash_address.reset_index(drop = True)\n",
    "fire2018_nash_address.head()"
   ]
  },
  {
   "cell_type": "markdown",
   "id": "f0a1093c",
   "metadata": {},
   "source": [
    "### Combining All 2018 Tables\n",
    "# saved to csv"
   ]
  },
  {
   "cell_type": "code",
   "execution_count": null,
   "id": "27a005f1",
   "metadata": {},
   "outputs": [],
   "source": [
    "tn2018 = pd.merge(firecauses2018, fire2018_TNaddress, \n",
    "                               on = 'INC_NO', \n",
    "                               how = 'inner')\n",
    "tn2018 = tn2018[['INC_NO', 'incident_date', 'STATE_x', 'FDID_x', 'CAUSE_CODE', 'NUM_MILE', 'STREET_PRE','STREETNAME', 'STREETTYPE', 'STREETSUF', 'APT_NO','CITY', 'STATE_ID', 'ZIP5']]\n",
    "tn2018.to_csv('tn2018.csv')\n",
    "tn2018"
   ]
  },
  {
   "cell_type": "code",
   "execution_count": null,
   "id": "72c42a94",
   "metadata": {},
   "outputs": [],
   "source": [
    "nash2018 = pd.merge(firecauses2018, fire2018_nash_address, \n",
    "                               on = 'INC_NO', \n",
    "                               how = 'inner')\n",
    "nash2018 = nash2018[['INC_NO', 'incident_date', 'STATE_x', 'FDID_x', 'CAUSE_CODE', 'NUM_MILE', 'STREET_PRE','STREETNAME', 'STREETTYPE', 'STREETSUF', 'APT_NO','CITY', 'STATE_ID', 'ZIP5']]\n",
    "nash2018.to_csv('nash2018.csv')\n",
    "nash2018"
   ]
  },
  {
   "cell_type": "markdown",
   "id": "d2023e4f",
   "metadata": {},
   "source": [
    "# 2017 All Fire Incident  (United States)"
   ]
  },
  {
   "cell_type": "markdown",
   "id": "92781278",
   "metadata": {},
   "source": [
    "#### codes to copy for all years ^^^"
   ]
  },
  {
   "cell_type": "code",
   "execution_count": null,
   "id": "111e0c8d",
   "metadata": {
    "scrolled": true
   },
   "outputs": [],
   "source": [
    "fire2017 = pd.read_csv('data/2017fireincident.txt', delimiter = '^')\n",
    "fire2017"
   ]
  },
  {
   "cell_type": "code",
   "execution_count": null,
   "id": "822277c5",
   "metadata": {},
   "outputs": [],
   "source": [
    "fire2017['incident_date'] = pd.to_datetime(fire2017['INC_DATE'], format='%m%d%Y')\n",
    "fire2017 = fire2017.drop(columns=['INC_DATE'])\n",
    "fire2017"
   ]
  },
  {
   "cell_type": "code",
   "execution_count": null,
   "id": "b9656a4c",
   "metadata": {
    "scrolled": true
   },
   "outputs": [],
   "source": [
    "fire2017= fire2017.drop_duplicates()\n",
    "fire2017"
   ]
  },
  {
   "cell_type": "code",
   "execution_count": null,
   "id": "f5d917a1",
   "metadata": {},
   "outputs": [],
   "source": [
    "fire2017 = fire2017.loc[fire2017['STATE'] == 'TN']\n",
    "fire2017"
   ]
  },
  {
   "cell_type": "markdown",
   "id": "ce790a1e",
   "metadata": {},
   "source": [
    "### 2017 Fire incident addresses (United States)"
   ]
  },
  {
   "cell_type": "code",
   "execution_count": null,
   "id": "21712dca",
   "metadata": {},
   "outputs": [],
   "source": [
    "fire2017_address = pd.read_csv('../data/2017incidentaddress.txt', delimiter = '^', encoding='latin-1')\n",
    "fire2017_address"
   ]
  },
  {
   "cell_type": "markdown",
   "id": "b4dfcc6c",
   "metadata": {},
   "source": [
    "### 2017 Fire Causes"
   ]
  },
  {
   "cell_type": "code",
   "execution_count": null,
   "id": "b2801d13",
   "metadata": {},
   "outputs": [],
   "source": [
    "firecauses2017 = pd.read_csv('../data/2017causes.txt', delimiter = '^')\n",
    "firecauses2017"
   ]
  },
  {
   "cell_type": "code",
   "execution_count": null,
   "id": "d14ad07a",
   "metadata": {},
   "outputs": [],
   "source": [
    "firecauses2017.CAUSE_CODE = firecauses2017.CAUSE_CODE.astype(str).str.strip()\n",
    "firecauses2017.CAUSE_CODE.unique()"
   ]
  },
  {
   "cell_type": "code",
   "execution_count": null,
   "id": "b623b7c4",
   "metadata": {},
   "outputs": [],
   "source": [
    "dict = {'15' : 'Other Unintentional', '1' : 'Intentional', \"2\" : 'Playing with Heat Source', '3' : 'Smoking', '4' : 'Heating', '5' : 'Cooking', '6' : 'Electrical Malfunction', '7' : 'Appliances', '8' : 'Open Flame', '9' : 'Other Heat', '10' : 'Other Equiptment', '11' : 'Natural', '12' : 'Exposure', '13' : 'Unknown', '14' : 'Equiptment Misoperation, Failure', '16' : 'Investigation with Arson Module'}\n",
    "\n",
    "firecauses2017['CAUSE_CODE'] = firecauses2017['CAUSE_CODE'].replace(dict)\n",
    "firecauses2017"
   ]
  },
  {
   "cell_type": "markdown",
   "id": "cb44114a",
   "metadata": {},
   "source": [
    "### 2017 Fire incident address (TN)"
   ]
  },
  {
   "cell_type": "code",
   "execution_count": null,
   "id": "cc339e34",
   "metadata": {},
   "outputs": [],
   "source": [
    "fire2017_TNaddress = fire2017_address.loc[fire2017_address['STATE_ID'] == 'TN'].drop('ZIP4', axis = 1)\n",
    "fire2017_TNaddress = fire2017_TNaddress.reset_index(drop = True)\n",
    "fire2017_TNaddress"
   ]
  },
  {
   "cell_type": "code",
   "execution_count": null,
   "id": "cf13da4a",
   "metadata": {},
   "outputs": [],
   "source": [
    "fire2017_TNaddress = fire2017_TNaddress.loc[fire2017_TNaddress['STATE'] == 'TN']\n",
    "fire2017_TNaddress"
   ]
  },
  {
   "cell_type": "markdown",
   "id": "2c6ac121",
   "metadata": {},
   "source": [
    "#### Changing case on 'STREETNAME', 'STREETTYPE', 'CITY', and 'STATE_ID'"
   ]
  },
  {
   "cell_type": "code",
   "execution_count": null,
   "id": "041f3870",
   "metadata": {},
   "outputs": [],
   "source": [
    "fire2017_TNaddress['STREETNAME'] = fire2017_TNaddress['STREETNAME'].str.title()\n",
    "fire2017_TNaddress['STREETTYPE'] = fire2017_TNaddress['STREETTYPE'].str.title()\n",
    "fire2017_TNaddress['CITY'] = fire2017_TNaddress['CITY'].str.title()\n",
    "fire2017_TNaddress['STATE_ID'] = fire2017_TNaddress['STATE_ID'].str.upper()\n",
    "fire2017_TNaddress"
   ]
  },
  {
   "cell_type": "markdown",
   "id": "6b6554bf",
   "metadata": {},
   "source": [
    "#### Changing 'INC_DATE' to datetime"
   ]
  },
  {
   "cell_type": "code",
   "execution_count": null,
   "id": "6054ed96",
   "metadata": {},
   "outputs": [],
   "source": [
    "fire2017_TNaddress['incident_date'] = pd.to_datetime(fire2017_TNaddress['INC_DATE'], format='%m%d%Y')\n",
    "fire2017_TNaddress = fire2017_TNaddress.drop(columns=['INC_DATE'])\n",
    "fire2017_TNaddress"
   ]
  },
  {
   "cell_type": "markdown",
   "id": "64d0abe5",
   "metadata": {},
   "source": [
    "#### Extract the first 5 digits of the zipcode in order to drop the '.0'"
   ]
  },
  {
   "cell_type": "code",
   "execution_count": null,
   "id": "69807f1f",
   "metadata": {},
   "outputs": [],
   "source": [
    "fire2017_TNaddress['ZIP5'] = fire2017_TNaddress['ZIP5'].astype(str).str.replace('\\.0$', '', regex=True)\n",
    "fire2017_TNaddress"
   ]
  },
  {
   "cell_type": "markdown",
   "id": "eafcdf7c",
   "metadata": {},
   "source": [
    "### 2017 Fire Incident addresses (Nashville, TN)\n",
    "#### (possibly narrow down to just specific zipcodes in which Nash Fire Dept responds to. For visulization purposes, follow the 'TN fire stats' link in favorites bar. TN State stats, Davidson Co stats, Nash/zipcode stats))"
   ]
  },
  {
   "cell_type": "code",
   "execution_count": null,
   "id": "74bcc883",
   "metadata": {},
   "outputs": [],
   "source": [
    "fire2017_nash_address = fire2017_TNaddress.loc[fire2017_TNaddress['CITY'] == 'Nashville']\n",
    "fire2017_nash_address = fire2017_nash_address.reset_index(drop = True)\n",
    "fire2017_nash_address.head()"
   ]
  },
  {
   "cell_type": "markdown",
   "id": "7757ddf5",
   "metadata": {},
   "source": [
    "### Combining All 2017 Tables\n",
    "# saved to csv"
   ]
  },
  {
   "cell_type": "code",
   "execution_count": null,
   "id": "f7cd440c",
   "metadata": {},
   "outputs": [],
   "source": [
    "tn2017 = pd.merge(firecauses2017, fire2017_TNaddress, \n",
    "                               on = 'INC_NO', \n",
    "                               how = 'inner')\n",
    "tn2017 = tn2017[['INC_NO', 'incident_date', 'FDID_x', 'CAUSE_CODE', 'NUM_MILE', 'STREET_PRE','STREETNAME', 'STREETTYPE', 'STREETSUF', 'APT_NO','CITY', 'STATE_ID', 'ZIP5']]\n",
    "tn2017.to_csv('tn2017.csv')\n",
    "tn2017"
   ]
  },
  {
   "cell_type": "code",
   "execution_count": null,
   "id": "ca7467ff",
   "metadata": {},
   "outputs": [],
   "source": [
    "nash2017 = pd.merge(firecauses2017, fire2017_nash_address, \n",
    "                               on = 'INC_NO', \n",
    "                               how = 'inner')\n",
    "nash2017 = nash2017[['INC_NO', 'incident_date', 'FDID_x', 'CAUSE_CODE', 'NUM_MILE', 'STREET_PRE','STREETNAME', 'STREETTYPE', 'STREETSUF', 'APT_NO','CITY', 'STATE_ID', 'ZIP5']]\n",
    "nash2017.to_csv('nash2017.csv')\n",
    "nash2017"
   ]
  },
  {
   "cell_type": "markdown",
   "id": "9a05898b",
   "metadata": {},
   "source": [
    "## Combining All Years for Nash"
   ]
  },
  {
   "cell_type": "code",
   "execution_count": null,
   "id": "b7978cc3",
   "metadata": {},
   "outputs": [],
   "source": [
    "nash2021 = pd.read_csv('nash2021.csv')\n",
    "nash2020 = pd.read_csv('nash2020.csv')"
   ]
  },
  {
   "cell_type": "code",
   "execution_count": null,
   "id": "5bc45f79",
   "metadata": {},
   "outputs": [],
   "source": [
    "nash2021"
   ]
  },
  {
   "cell_type": "code",
   "execution_count": null,
   "id": "1218464f",
   "metadata": {},
   "outputs": [],
   "source": [
    "nash20_21 = pd.concat([nash2020, nash2021], ignore_index=True)\n",
    "nash20_21"
   ]
  },
  {
   "cell_type": "code",
   "execution_count": null,
   "id": "f50ff1b7",
   "metadata": {},
   "outputs": [],
   "source": [
    "nash20s_19 = pd.concat([nash20_21, nash2019], ignore_index=True)\n",
    "nash20s_19"
   ]
  },
  {
   "cell_type": "code",
   "execution_count": null,
   "id": "bdf8ff0f",
   "metadata": {},
   "outputs": [],
   "source": [
    "nash2019 = pd.read_csv('nash2019.csv')"
   ]
  },
  {
   "cell_type": "code",
   "execution_count": null,
   "id": "b993c7e1",
   "metadata": {},
   "outputs": [],
   "source": [
    "nash20s_18 = pd.concat([nash20s_19, nash2018], ignore_index=True)\n",
    "nash20s_18"
   ]
  },
  {
   "cell_type": "code",
   "execution_count": null,
   "id": "9846cac3",
   "metadata": {},
   "outputs": [],
   "source": [
    "nash2018 = pd.read_csv('nash2018.csv')\n",
    "nash2018['INC_NO_x'] = nash2018['INC_NO']\n",
    "nash2018 = nash2018[['incident_date', 'STATE_x', 'FDID_x', 'INC_NO_x', 'CAUSE_CODE', 'NUM_MILE', 'STREET_PRE','STREETNAME', 'STREETTYPE', 'STREETSUF', 'APT_NO','CITY', 'STATE_ID', 'ZIP5']]\n",
    "nash2018 = nash2018.loc[nash2018['STATE_x'] == 'TN']\n",
    "nash2018.to_csv('nash2018.csv')"
   ]
  },
  {
   "cell_type": "code",
   "execution_count": null,
   "id": "0d5652d9",
   "metadata": {},
   "outputs": [],
   "source": [
    "nash2017 = pd.read_csv('nash2017.csv')\n",
    "nash2017['INC_NO_x'] = nash2017['INC_NO']\n",
    "nash2017 = nash2017[['incident_date', 'FDID_x', 'INC_NO_x', 'CAUSE_CODE', 'NUM_MILE', 'STREET_PRE','STREETNAME', 'STREETTYPE', 'STREETSUF', 'APT_NO','CITY', 'STATE_ID', 'ZIP5']]\n",
    "nash2017"
   ]
  },
  {
   "cell_type": "code",
   "execution_count": null,
   "id": "cc6fefdc",
   "metadata": {},
   "outputs": [],
   "source": [
    "nashfires = pd.concat([nash20s_18, nash2017], ignore_index=True)\n",
    "nashfires.reset_index(drop = True)"
   ]
  },
  {
   "cell_type": "code",
   "execution_count": null,
   "id": "561752f4",
   "metadata": {},
   "outputs": [],
   "source": [
    "nashfires.INC_NO_x.nunique()"
   ]
  },
  {
   "cell_type": "code",
   "execution_count": null,
   "id": "a9f5cd5d",
   "metadata": {},
   "outputs": [],
   "source": [
    "nashfires['incident_date'] = pd.to_datetime(nashfires['incident_date'])\n",
    "nashfires"
   ]
  },
  {
   "cell_type": "code",
   "execution_count": null,
   "id": "d44861c0",
   "metadata": {},
   "outputs": [],
   "source": [
    "def season(month):\n",
    "    if month in [3, 4, 5]:\n",
    "        return 'Spring'\n",
    "    elif month in [6, 7, 8]:\n",
    "        return 'Summer'\n",
    "    elif month in [9, 10, 11]:\n",
    "        return 'Fall'\n",
    "    else:\n",
    "        return 'Winter'\n",
    "    \n",
    "nashfires['Season'] = nashfires['incident_date'].dt.month.apply(season)\n",
    "nashfires"
   ]
  },
  {
   "cell_type": "code",
   "execution_count": null,
   "id": "8ae25478",
   "metadata": {},
   "outputs": [],
   "source": [
    "nashfires['NUM_MILE'] = nashfires['NUM_MILE'].astype(str)\n",
    "nashfires['APT_NO'] = nashfires['APT_NO'].astype(str)"
   ]
  },
  {
   "cell_type": "code",
   "execution_count": null,
   "id": "ef497ab0",
   "metadata": {
    "scrolled": true
   },
   "outputs": [],
   "source": [
    "nashfires['Address'] = (\n",
    "    nashfires['NUM_MILE'].fillna(' ') + (' ') +\n",
    "    nashfires['STREET_PRE'].fillna(' ') + (' ') +\n",
    "    nashfires['STREETNAME'].fillna(' ') + (' ') +\n",
    "    nashfires['STREETTYPE'].fillna(' ') + (' ') +\n",
    "    nashfires['STREETSUF'].fillna(' ')\n",
    ")\n",
    "\n",
    "nashfires['Address'] = nashfires['Address'].str.strip()\n",
    "nashfires.to_csv('nashfires.csv')"
   ]
  },
  {
   "cell_type": "markdown",
   "id": "13ab6974",
   "metadata": {},
   "source": [
    "### Count of how many fires per season in Nashville from 2017-2021"
   ]
  },
  {
   "cell_type": "code",
   "execution_count": null,
   "id": "207202cd",
   "metadata": {},
   "outputs": [],
   "source": [
    "import pandas as pd"
   ]
  },
  {
   "cell_type": "code",
   "execution_count": null,
   "id": "d44dfaa1",
   "metadata": {},
   "outputs": [],
   "source": [
    "nashfires = pd.read_csv('data/nashfires.csv')"
   ]
  },
  {
   "cell_type": "code",
   "execution_count": null,
   "id": "8dfbf5cf",
   "metadata": {},
   "outputs": [],
   "source": [
    "nashfires['Season'].value_counts()"
   ]
  },
  {
   "cell_type": "code",
   "execution_count": null,
   "id": "16937e7d",
   "metadata": {
    "scrolled": true
   },
   "outputs": [],
   "source": [
    "nashfires['CAUSE_CODE'].value_counts()"
   ]
  },
  {
   "cell_type": "code",
   "execution_count": null,
   "id": "7cc2326b",
   "metadata": {},
   "outputs": [],
   "source": [
    "nashfires['ZIP5'].nunique()"
   ]
  },
  {
   "cell_type": "code",
   "execution_count": null,
   "id": "210927f2",
   "metadata": {},
   "outputs": [],
   "source": []
  },
  {
   "cell_type": "markdown",
   "id": "4668eed5",
   "metadata": {},
   "source": [
    "## Combining All Years for TN\n"
   ]
  },
  {
   "cell_type": "code",
   "execution_count": null,
   "id": "f0b897f9",
   "metadata": {},
   "outputs": [],
   "source": [
    "tn2021 = pd.read_csv('tn2021.csv')\n",
    "tn2020 = pd.read_csv('tn2020.csv')"
   ]
  },
  {
   "cell_type": "code",
   "execution_count": null,
   "id": "daca6eae",
   "metadata": {},
   "outputs": [],
   "source": [
    "tn20_21 = pd.concat([tn2020, tn2021], ignore_index=True)\n",
    "tn20_21"
   ]
  },
  {
   "cell_type": "code",
   "execution_count": null,
   "id": "dd2c536c",
   "metadata": {},
   "outputs": [],
   "source": [
    "tn2019 = pd.read_csv('tn2019.csv')"
   ]
  },
  {
   "cell_type": "code",
   "execution_count": null,
   "id": "9e9ab600",
   "metadata": {},
   "outputs": [],
   "source": [
    "tn20s_19 = pd.concat([tn20_21, tn2019], ignore_index=True)\n",
    "tn20s_19"
   ]
  },
  {
   "cell_type": "code",
   "execution_count": null,
   "id": "04f5ac4d",
   "metadata": {},
   "outputs": [],
   "source": [
    "tn2018 = pd.read_csv('tn2018.csv')\n",
    "tn2018['INC_NO_x'] = tn2018['INC_NO']\n",
    "tn2018 = tn2018[['incident_date', 'STATE_x', 'FDID_x', 'INC_NO_x', 'CAUSE_CODE', 'NUM_MILE', 'STREET_PRE','STREETNAME', 'STREETTYPE', 'STREETSUF', 'APT_NO','CITY', 'STATE_ID', 'ZIP5']]\n",
    "tn2018 = tn2018.loc[tn2018['STATE_x'] == 'TN']\n",
    "tn2018.to_csv('tn2018.csv')"
   ]
  },
  {
   "cell_type": "code",
   "execution_count": null,
   "id": "4b55cf06",
   "metadata": {},
   "outputs": [],
   "source": [
    "tn20s_18 = pd.concat([tn20s_19, tn2018], ignore_index=True)\n",
    "tn20s_18"
   ]
  },
  {
   "cell_type": "code",
   "execution_count": null,
   "id": "ba2e1862",
   "metadata": {},
   "outputs": [],
   "source": [
    "tn2017 = pd.read_csv('tn2017.csv')\n",
    "tn2017['INC_NO_x'] = tn2017['INC_NO']\n",
    "tn2017 = tn2017[['incident_date', 'FDID_x', 'INC_NO_x', 'CAUSE_CODE', 'NUM_MILE', 'STREET_PRE','STREETNAME', 'STREETTYPE', 'STREETSUF', 'APT_NO','CITY', 'STATE_ID', 'ZIP5']]\n",
    "tn2017"
   ]
  },
  {
   "cell_type": "code",
   "execution_count": null,
   "id": "7f9e6922",
   "metadata": {},
   "outputs": [],
   "source": [
    "tnfires = pd.concat([tn20s_18, tn2017], ignore_index=True)\n",
    "tnfires.reset_index(drop = True)"
   ]
  },
  {
   "cell_type": "code",
   "execution_count": null,
   "id": "6337eae8",
   "metadata": {},
   "outputs": [],
   "source": [
    "tnfires.INC_NO_x.nunique()"
   ]
  },
  {
   "cell_type": "code",
   "execution_count": null,
   "id": "9b93e2a5",
   "metadata": {},
   "outputs": [],
   "source": [
    "tnfires['incident_date'] = pd.to_datetime(tnfires['incident_date'])\n",
    "tnfires"
   ]
  },
  {
   "cell_type": "code",
   "execution_count": null,
   "id": "3486723c",
   "metadata": {},
   "outputs": [],
   "source": [
    "def season(month):\n",
    "    if month in [3, 4, 5]:\n",
    "        return 'Spring'\n",
    "    elif month in [6, 7, 8]:\n",
    "        return 'Summer'\n",
    "    elif month in [9, 10, 11]:\n",
    "        return 'Fall'\n",
    "    else:\n",
    "        return 'Winter'\n",
    "    \n",
    "tnfires['Season'] = tnfires['incident_date'].dt.month.apply(season)\n",
    "tnfires"
   ]
  },
  {
   "cell_type": "code",
   "execution_count": null,
   "id": "afd866fb",
   "metadata": {},
   "outputs": [],
   "source": [
    "tnfires['NUM_MILE'] = tnfires['NUM_MILE'].astype(str)\n",
    "tnfires['APT_NO'] = tnfires['APT_NO'].astype(str)"
   ]
  },
  {
   "cell_type": "code",
   "execution_count": null,
   "id": "b043d323",
   "metadata": {},
   "outputs": [],
   "source": [
    "tnfires['Address'] = (\n",
    "    tnfires['NUM_MILE'].fillna(' ') + (' ') +\n",
    "    tnfires['STREET_PRE'].fillna(' ') + (' ') +\n",
    "    tnfires['STREETNAME'].fillna(' ') + (' ') +\n",
    "    tnfires['STREETTYPE'].fillna(' ') + (' ') +\n",
    "    tnfires['STREETSUF'].fillna(' ')\n",
    ")\n",
    "\n",
    "tnfires['Address'] = tnfires['Address'].str.strip()\n",
    "tnfires.to_csv('tnfires.csv')"
   ]
  },
  {
   "cell_type": "code",
   "execution_count": null,
   "id": "6cfdcc14",
   "metadata": {},
   "outputs": [],
   "source": [
    "tnfires = pd.read_csv('data/tnfires.csv')"
   ]
  },
  {
   "cell_type": "markdown",
   "id": "4e118349",
   "metadata": {},
   "source": [
    "### Count of how many fires per season in Tennessee from 2017-2021"
   ]
  },
  {
   "cell_type": "code",
   "execution_count": null,
   "id": "aaa25e52",
   "metadata": {},
   "outputs": [],
   "source": [
    "tnfires['Season'].value_counts()"
   ]
  },
  {
   "cell_type": "code",
   "execution_count": null,
   "id": "88f40a63",
   "metadata": {},
   "outputs": [],
   "source": [
    "tnfires['CAUSE_CODE'].value_counts()"
   ]
  },
  {
   "cell_type": "markdown",
   "id": "6a8c46ea",
   "metadata": {},
   "source": [
    "# Zip Codes"
   ]
  },
  {
   "cell_type": "code",
   "execution_count": null,
   "id": "ea67d1e6",
   "metadata": {},
   "outputs": [],
   "source": [
    "import pandas as pd"
   ]
  },
  {
   "cell_type": "code",
   "execution_count": null,
   "id": "be4c409c",
   "metadata": {},
   "outputs": [],
   "source": [
    "tnfires.rename(columns={'ZIP5': 'zip'}, inplace=True)\n",
    "tnfires"
   ]
  },
  {
   "cell_type": "code",
   "execution_count": null,
   "id": "b3c91c72",
   "metadata": {},
   "outputs": [],
   "source": [
    "nash_zip = pd.read_csv('data/zip.csv', encoding='latin-1')\n",
    "nash_zip"
   ]
  },
  {
   "cell_type": "code",
   "execution_count": null,
   "id": "4231efe7",
   "metadata": {
    "scrolled": true
   },
   "outputs": [],
   "source": [
    "nash_zip = nash_zip[['zip', 'neighborhood']]"
   ]
  },
  {
   "cell_type": "code",
   "execution_count": null,
   "id": "6dca1d12",
   "metadata": {
    "scrolled": true
   },
   "outputs": [],
   "source": [
    "nashfires = tnfires.merge(nash_zip,how=\"inner\",on=\"zip\")\n",
    "nashfires"
   ]
  },
  {
   "cell_type": "code",
   "execution_count": null,
   "id": "85c3d177",
   "metadata": {},
   "outputs": [],
   "source": [
    "nashfires = pd.read_csv('data/nashfires.csv')"
   ]
  },
  {
   "cell_type": "code",
   "execution_count": null,
   "id": "58912f70",
   "metadata": {},
   "outputs": [],
   "source": [
    "nashfires.to_csv('data/nashfires.csv')"
   ]
  },
  {
   "cell_type": "code",
   "execution_count": null,
   "id": "440cb766",
   "metadata": {},
   "outputs": [],
   "source": [
    "nashfires['zip'].unique()"
   ]
  },
  {
   "cell_type": "code",
   "execution_count": null,
   "id": "902ffdc1",
   "metadata": {},
   "outputs": [],
   "source": [
    "nashfires['full_address'] = nashfires['Address'] + ', ' + nashfires['CITY'] + ', ' + nashfires['STATE_ID'].astype(str) + ', ' + nashfires['zip'].astype(str)\n",
    "nashfires"
   ]
  },
  {
   "cell_type": "markdown",
   "id": "fdbbed1f",
   "metadata": {},
   "source": [
    "# Removing Duplicated Rows"
   ]
  },
  {
   "cell_type": "code",
   "execution_count": null,
   "id": "88a7d989",
   "metadata": {},
   "outputs": [],
   "source": [
    "nashfires= nashfires.drop_duplicates()\n",
    "nashfires"
   ]
  },
  {
   "cell_type": "code",
   "execution_count": null,
   "id": "77dc82ba",
   "metadata": {},
   "outputs": [],
   "source": [
    "tnfires['full_address'] = tnfires['Address'] + ', ' + tnfires['CITY'] + ', ' + tnfires['STATE_ID'].astype(str) + ', ' + tnfires['ZIP5'].astype(str)\n",
    "tnfires"
   ]
  },
  {
   "cell_type": "code",
   "execution_count": null,
   "id": "772db6d8",
   "metadata": {},
   "outputs": [],
   "source": [
    "tnfires = tnfires.drop(columns=['Unnamed: 0.1', 'Unnamed: 0'])\n",
    "tnfires"
   ]
  },
  {
   "cell_type": "code",
   "execution_count": null,
   "id": "7c69937c",
   "metadata": {},
   "outputs": [],
   "source": [
    "tnfires= tnfires.drop_duplicates()\n",
    "tnfires"
   ]
  },
  {
   "cell_type": "code",
   "execution_count": null,
   "id": "a0b1c1ec",
   "metadata": {},
   "outputs": [],
   "source": [
    "tnfires.to_csv('data/tnfires.csv')"
   ]
  },
  {
   "cell_type": "code",
   "execution_count": null,
   "id": "2684d6fa",
   "metadata": {},
   "outputs": [],
   "source": [
    "nashfires = pd.read_csv('data/nashfires.csv')\n",
    "nashfires = nashfires.loc[nashfires['CITY'] == 'Nashville']\n",
    "nashfires"
   ]
  },
  {
   "cell_type": "code",
   "execution_count": null,
   "id": "67094838",
   "metadata": {},
   "outputs": [],
   "source": [
    "nashfires = nashfires.drop(columns=['Unnamed: 0'])\n",
    "nashfires"
   ]
  },
  {
   "cell_type": "code",
   "execution_count": null,
   "id": "e23db0cf",
   "metadata": {},
   "outputs": [],
   "source": [
    "nashfires = nashfires.drop_duplicates(subset=['Address', 'incident_date'])\n",
    "nashfires = nashfires.reset_index(drop = True)\n",
    "nashfires"
   ]
  },
  {
   "cell_type": "code",
   "execution_count": null,
   "id": "aee0f100",
   "metadata": {},
   "outputs": [],
   "source": [
    "tnfires = pd.read_csv('data/tnfires.csv')\n",
    "tnfires = tnfires.loc[tnfires['STATE_ID'] == 'TN']\n",
    "tnfires"
   ]
  },
  {
   "cell_type": "code",
   "execution_count": null,
   "id": "b7e2b9b6",
   "metadata": {},
   "outputs": [],
   "source": [
    "tnfires = tnfires.drop_duplicates(subset=['Address', 'incident_date'])\n",
    "tnfires"
   ]
  },
  {
   "cell_type": "code",
   "execution_count": null,
   "id": "e7348fa8",
   "metadata": {},
   "outputs": [],
   "source": [
    "tnfires['incident_date'] = pd.to_datetime(tnfires['incident_date'])\n",
    "tnfires.info()"
   ]
  },
  {
   "cell_type": "code",
   "execution_count": null,
   "id": "afae4ad4",
   "metadata": {},
   "outputs": [],
   "source": [
    "start_year = tnfires['incident_date'].dt.year.min()\n",
    "end_year = tnfires['incident_date'].dt.year.max()\n",
    "print(\"Start Year:\", start_year)\n",
    "print(\"End Year:\", end_year)"
   ]
  },
  {
   "cell_type": "code",
   "execution_count": null,
   "id": "7c338c7a",
   "metadata": {},
   "outputs": [],
   "source": [
    "tnfires = tnfires.drop(columns=['Unnamed: 0'])\n",
    "tnfires"
   ]
  },
  {
   "cell_type": "code",
   "execution_count": null,
   "id": "7dc99308",
   "metadata": {},
   "outputs": [],
   "source": [
    "tnfires.loc[tnfires['incident_date'] == '2017-10-01']"
   ]
  },
  {
   "cell_type": "markdown",
   "id": "8e4f05c4",
   "metadata": {},
   "source": [
    "# Drilling down why specific dates are so high in volume"
   ]
  },
  {
   "cell_type": "code",
   "execution_count": null,
   "id": "06054fcb",
   "metadata": {},
   "outputs": [],
   "source": [
    "import pandas as pd"
   ]
  },
  {
   "cell_type": "code",
   "execution_count": null,
   "id": "c22f6f87",
   "metadata": {},
   "outputs": [],
   "source": [
    "tnfires = pd.read_csv('data/tnfires.csv')\n",
    "tnfires"
   ]
  },
  {
   "cell_type": "code",
   "execution_count": null,
   "id": "c74560cc",
   "metadata": {},
   "outputs": [],
   "source": [
    "tnfires.loc[tnfires['STATE_ID'] == 'TN']"
   ]
  },
  {
   "cell_type": "code",
   "execution_count": null,
   "id": "79a2876d",
   "metadata": {},
   "outputs": [],
   "source": [
    "nashfires = pd.read_csv('data/nashfires.csv')\n",
    "nashfires"
   ]
  },
  {
   "cell_type": "code",
   "execution_count": null,
   "id": "04ad6e68",
   "metadata": {
    "scrolled": true
   },
   "outputs": [],
   "source": [
    "tnfires.loc[tnfires['incident_date'] == '2017-10-01']['CITY'].value_counts()"
   ]
  },
  {
   "cell_type": "code",
   "execution_count": null,
   "id": "8c6cbe20",
   "metadata": {},
   "outputs": [],
   "source": [
    "tnfires.loc[tnfires['incident_date'] == '2017-10-01']"
   ]
  },
  {
   "cell_type": "code",
   "execution_count": null,
   "id": "3cc7191f",
   "metadata": {},
   "outputs": [],
   "source": [
    "tnfires"
   ]
  },
  {
   "cell_type": "code",
   "execution_count": null,
   "id": "9ea2913c",
   "metadata": {},
   "outputs": [],
   "source": [
    "tnfires.rename(columns={'INC_NO_x': 'INC_NO'}, inplace=True)"
   ]
  },
  {
   "cell_type": "code",
   "execution_count": null,
   "id": "c08281b8",
   "metadata": {
    "scrolled": true
   },
   "outputs": [],
   "source": [
    "tnfires = tnfires.merge(fire2017[['INC_NO', 'NOT_RES']], on='INC_NO', how='left')"
   ]
  },
  {
   "cell_type": "code",
   "execution_count": null,
   "id": "b8d83ea2",
   "metadata": {},
   "outputs": [],
   "source": [
    "tnfires"
   ]
  },
  {
   "cell_type": "markdown",
   "id": "87cc453f",
   "metadata": {},
   "source": [
    "# If address is Residential or Not \n",
    "### run this code after each merge"
   ]
  },
  {
   "cell_type": "code",
   "execution_count": null,
   "id": "8d0ef66b",
   "metadata": {},
   "outputs": [],
   "source": [
    "tnfires = tnfires.drop_duplicates(subset=['Address', 'incident_date'])\n",
    "tnfires"
   ]
  },
  {
   "cell_type": "code",
   "execution_count": null,
   "id": "8b96f90e",
   "metadata": {},
   "outputs": [],
   "source": [
    "tnfires = tnfires.merge(fire2018[['INC_NO', 'NOT_RES']], on='INC_NO', how='left')\n",
    "tnfires"
   ]
  },
  {
   "cell_type": "code",
   "execution_count": null,
   "id": "f314b571",
   "metadata": {},
   "outputs": [],
   "source": [
    "tnfires = tnfires.drop_duplicates(subset=['Address', 'incident_date'])\n",
    "tnfires"
   ]
  },
  {
   "cell_type": "code",
   "execution_count": null,
   "id": "e7eff8e8",
   "metadata": {},
   "outputs": [],
   "source": [
    "tnfires = tnfires.merge(fire2019[['INC_NO', 'NOT_RES']], on='INC_NO', how='left')\n",
    "tnfires"
   ]
  },
  {
   "cell_type": "code",
   "execution_count": null,
   "id": "d8e3973a",
   "metadata": {},
   "outputs": [],
   "source": [
    "tnfires = tnfires.drop_duplicates(subset=['Address', 'incident_date'])\n",
    "tnfires"
   ]
  },
  {
   "cell_type": "code",
   "execution_count": null,
   "id": "30e99d62",
   "metadata": {},
   "outputs": [],
   "source": [
    "tnfires = tnfires.merge(fire2020[['INC_NO', 'NOT_RES']], on='INC_NO', how='left')\n",
    "tnfires"
   ]
  },
  {
   "cell_type": "code",
   "execution_count": null,
   "id": "e2c7e413",
   "metadata": {},
   "outputs": [],
   "source": [
    "tnfires = tnfires.drop_duplicates(subset=['Address', 'incident_date'])\n",
    "tnfires"
   ]
  },
  {
   "cell_type": "code",
   "execution_count": null,
   "id": "ec16553f",
   "metadata": {},
   "outputs": [],
   "source": [
    "tnfires = tnfires.merge(fire2021[['INC_NO', 'NOT_RES']], on='INC_NO', how='left')\n",
    "tnfires"
   ]
  },
  {
   "cell_type": "code",
   "execution_count": null,
   "id": "dc271034",
   "metadata": {},
   "outputs": [],
   "source": [
    "tnfires = tnfires.drop_duplicates(subset=['Address', 'incident_date'])\n",
    "tnfires"
   ]
  },
  {
   "cell_type": "code",
   "execution_count": null,
   "id": "cf0b54fc",
   "metadata": {},
   "outputs": [],
   "source": [
    "tnfires.to_csv('data/tnfires.csv')"
   ]
  },
  {
   "cell_type": "code",
   "execution_count": null,
   "id": "6f062599",
   "metadata": {},
   "outputs": [],
   "source": [
    "columns_to_drop = ['Unnamed: 0.1', 'Unnamed: 0']\n",
    "tnfires.drop(columns=columns_to_drop, inplace=True)"
   ]
  },
  {
   "cell_type": "code",
   "execution_count": null,
   "id": "9e1b7783",
   "metadata": {},
   "outputs": [],
   "source": [
    "tnfires"
   ]
  },
  {
   "cell_type": "code",
   "execution_count": null,
   "id": "9668f414",
   "metadata": {},
   "outputs": [],
   "source": [
    "tnfires.rename(columns={'NOT_RES_x.2': 'NOT_RES'}, inplace=True)"
   ]
  },
  {
   "cell_type": "code",
   "execution_count": null,
   "id": "7f0af774",
   "metadata": {},
   "outputs": [],
   "source": [
    "tnfires"
   ]
  },
  {
   "cell_type": "code",
   "execution_count": null,
   "id": "9b42de1f",
   "metadata": {},
   "outputs": [],
   "source": [
    "tnfires.to_csv('data/tnfires.csv')"
   ]
  },
  {
   "cell_type": "code",
   "execution_count": null,
   "id": "337b4b08",
   "metadata": {},
   "outputs": [],
   "source": [
    "dict = {'Y': 'Not Residential', 'N': 'Residential'}\n",
    "tnfires['NOT_RES'] = tnfires['NOT_RES'].replace(dict)"
   ]
  },
  {
   "cell_type": "code",
   "execution_count": null,
   "id": "3514c8ff",
   "metadata": {},
   "outputs": [],
   "source": [
    "tnfires.rename(columns={'zip': 'ZIP5'}, inplace=True)"
   ]
  },
  {
   "cell_type": "code",
   "execution_count": null,
   "id": "4c3dc1b6",
   "metadata": {},
   "outputs": [],
   "source": []
  },
  {
   "cell_type": "code",
   "execution_count": null,
   "id": "40cdc722",
   "metadata": {},
   "outputs": [],
   "source": []
  },
  {
   "cell_type": "code",
   "execution_count": null,
   "id": "6342b767",
   "metadata": {},
   "outputs": [],
   "source": []
  },
  {
   "cell_type": "code",
   "execution_count": null,
   "id": "ae8712a1",
   "metadata": {},
   "outputs": [],
   "source": []
  },
  {
   "cell_type": "code",
   "execution_count": null,
   "id": "03c2e90d",
   "metadata": {},
   "outputs": [],
   "source": []
  },
  {
   "cell_type": "code",
   "execution_count": null,
   "id": "07398877",
   "metadata": {},
   "outputs": [],
   "source": []
  },
  {
   "cell_type": "code",
   "execution_count": null,
   "id": "b1a25d9e",
   "metadata": {},
   "outputs": [],
   "source": []
  },
  {
   "cell_type": "code",
   "execution_count": null,
   "id": "9e86e42e",
   "metadata": {},
   "outputs": [],
   "source": []
  }
 ],
 "metadata": {
  "kernelspec": {
   "display_name": "Python 3 (ipykernel)",
   "language": "python",
   "name": "python3"
  },
  "language_info": {
   "codemirror_mode": {
    "name": "ipython",
    "version": 3
   },
   "file_extension": ".py",
   "mimetype": "text/x-python",
   "name": "python",
   "nbconvert_exporter": "python",
   "pygments_lexer": "ipython3",
   "version": "3.10.9"
  }
 },
 "nbformat": 4,
 "nbformat_minor": 5
}
